{
 "cells": [
  {
   "cell_type": "markdown",
   "metadata": {},
   "source": [
    "# 1 Preparation "
   ]
  },
  {
   "cell_type": "markdown",
   "metadata": {},
   "source": [
    "## 1.1 Packages Installation + Module Setup"
   ]
  },
  {
   "cell_type": "code",
   "execution_count": 3,
   "metadata": {},
   "outputs": [],
   "source": [
    "import numpy as np\n",
    "import pandas as pd\n",
    "import matplotlib.pyplot as plt\n",
    "from sklearn.model_selection import train_test_split\n",
    "from sklearn.naive_bayes import GaussianNB\n",
    "from sklearn.preprocessing import FunctionTransformer\n",
    "from sklearn.pipeline import make_pipeline\n",
    "from sklearn.neighbors import KNeighborsClassifier\n",
    "from sklearn.ensemble import RandomForestClassifier\n",
    "from sklearn.preprocessing import MinMaxScaler\n",
    "from sklearn.cluster import KMeans\n",
    "from sklearn.decomposition import PCA\n",
    "from sklearn.svm import SVC\n",
    "from sklearn.preprocessing import StandardScaler\n",
    "from sklearn.feature_selection import chi2\n",
    "from sklearn import preprocessing\n",
    "from sklearn.ensemble import GradientBoostingClassifier\n",
    "from sklearn.ensemble import AdaBoostClassifier\n",
    "from sklearn.neural_network import MLPClassifier\n",
    "from sklearn import metrics\n",
    "from sklearn.neighbors import KNeighborsClassifier\n",
    "\n"
   ]
  },
  {
   "cell_type": "code",
   "execution_count": 10,
   "metadata": {},
   "outputs": [
    {
     "name": "stdout",
     "output_type": "stream",
     "text": [
      "/Users/mozzietian/miniconda3/bin/python\n"
     ]
    }
   ],
   "source": [
    "import collections\n",
    "import nltk\n",
    "from nltk.corpus import stopwords\n",
    "import sys\n",
    "print(sys.executable)\n",
    "import re"
   ]
  },
  {
   "cell_type": "code",
   "execution_count": 9,
   "metadata": {},
   "outputs": [
    {
     "name": "stdout",
     "output_type": "stream",
     "text": [
      "Collecting wordcloud\n",
      "  Using cached wordcloud-1.8.0-cp38-cp38-macosx_10_6_x86_64.whl (162 kB)\n",
      "Requirement already satisfied: numpy>=1.6.1 in /Users/mozzietian/miniconda3/lib/python3.8/site-packages (from wordcloud) (1.19.1)\n",
      "Requirement already satisfied: pillow in /Users/mozzietian/miniconda3/lib/python3.8/site-packages (from wordcloud) (8.0.0)\n",
      "Requirement already satisfied: matplotlib in /Users/mozzietian/miniconda3/lib/python3.8/site-packages (from wordcloud) (3.3.2)\n",
      "Requirement already satisfied: pyparsing!=2.0.4,!=2.1.2,!=2.1.6,>=2.0.3 in /Users/mozzietian/miniconda3/lib/python3.8/site-packages (from matplotlib->wordcloud) (2.4.7)\n",
      "Requirement already satisfied: python-dateutil>=2.1 in /Users/mozzietian/miniconda3/lib/python3.8/site-packages (from matplotlib->wordcloud) (2.8.1)\n",
      "Requirement already satisfied: kiwisolver>=1.0.1 in /Users/mozzietian/miniconda3/lib/python3.8/site-packages (from matplotlib->wordcloud) (1.2.0)\n",
      "Requirement already satisfied: certifi>=2020.06.20 in /Users/mozzietian/miniconda3/lib/python3.8/site-packages (from matplotlib->wordcloud) (2020.6.20)\n",
      "Requirement already satisfied: cycler>=0.10 in /Users/mozzietian/miniconda3/lib/python3.8/site-packages (from matplotlib->wordcloud) (0.10.0)\n",
      "Requirement already satisfied: six>=1.5 in /Users/mozzietian/miniconda3/lib/python3.8/site-packages (from python-dateutil>=2.1->matplotlib->wordcloud) (1.14.0)\n",
      "Installing collected packages: wordcloud\n",
      "Successfully installed wordcloud-1.8.0\n"
     ]
    }
   ],
   "source": []
  },
  {
   "cell_type": "code",
   "execution_count": 10,
   "metadata": {},
   "outputs": [],
   "source": [
    "from wordcloud import WordCloud"
   ]
  },
  {
   "cell_type": "markdown",
   "metadata": {},
   "source": [
    "## 1.2 Build some helper functions to filter data"
   ]
  },
  {
   "cell_type": "code",
   "execution_count": 1,
   "metadata": {},
   "outputs": [],
   "source": []
  },
  {
   "cell_type": "markdown",
   "metadata": {},
   "source": [
    "# 2 Data Pre-processing"
   ]
  },
  {
   "cell_type": "markdown",
   "metadata": {},
   "source": [
    "## 2.1 Load in the data and get a pre-view "
   ]
  },
  {
   "cell_type": "code",
   "execution_count": 6,
   "metadata": {},
   "outputs": [],
   "source": [
    "df = pd.read_csv('D2.txt', sep='\\t', names=['id','text'])"
   ]
  },
  {
   "cell_type": "code",
   "execution_count": 7,
   "metadata": {},
   "outputs": [
    {
     "data": {
      "text/html": [
       "<div>\n",
       "<style scoped>\n",
       "    .dataframe tbody tr th:only-of-type {\n",
       "        vertical-align: middle;\n",
       "    }\n",
       "\n",
       "    .dataframe tbody tr th {\n",
       "        vertical-align: top;\n",
       "    }\n",
       "\n",
       "    .dataframe thead th {\n",
       "        text-align: right;\n",
       "    }\n",
       "</style>\n",
       "<table border=\"1\" class=\"dataframe\">\n",
       "  <thead>\n",
       "    <tr style=\"text-align: right;\">\n",
       "      <th></th>\n",
       "      <th>id</th>\n",
       "      <th>text</th>\n",
       "    </tr>\n",
       "  </thead>\n",
       "  <tbody>\n",
       "    <tr>\n",
       "      <th>0</th>\n",
       "      <td>1319655864186396674</td>\n",
       "      <td>@prezydentpl @AndrzejDuda The CDC has admitted...</td>\n",
       "    </tr>\n",
       "    <tr>\n",
       "      <th>1</th>\n",
       "      <td>1319655868703641600</td>\n",
       "      <td>😷 688 новых случаев заражения #коронавирусом🏥 ...</td>\n",
       "    </tr>\n",
       "    <tr>\n",
       "      <th>2</th>\n",
       "      <td>1319655869806764033</td>\n",
       "      <td>Y de esto también tiene culpa Gatell?La poblac...</td>\n",
       "    </tr>\n",
       "    <tr>\n",
       "      <th>3</th>\n",
       "      <td>1319655870582718464</td>\n",
       "      <td>There has been a \"sharp increase\" in the numbe...</td>\n",
       "    </tr>\n",
       "    <tr>\n",
       "      <th>4</th>\n",
       "      <td>1319655873749319680</td>\n",
       "      <td>As first reported by @journalsentinel, COVID-1...</td>\n",
       "    </tr>\n",
       "    <tr>\n",
       "      <th>...</th>\n",
       "      <td>...</td>\n",
       "      <td>...</td>\n",
       "    </tr>\n",
       "    <tr>\n",
       "      <th>873</th>\n",
       "      <td>1319658738710499329</td>\n",
       "      <td>Govt identifying 30 crore 'priority' beneficia...</td>\n",
       "    </tr>\n",
       "    <tr>\n",
       "      <th>874</th>\n",
       "      <td>1319658747195772928</td>\n",
       "      <td>Remember back in March. That whole just wash y...</td>\n",
       "    </tr>\n",
       "    <tr>\n",
       "      <th>875</th>\n",
       "      <td>1319658750236643328</td>\n",
       "      <td>The global COVID-19 surge has forced BU to sus...</td>\n",
       "    </tr>\n",
       "    <tr>\n",
       "      <th>876</th>\n",
       "      <td>1319658751285170177</td>\n",
       "      <td>@AguilarMario El caso era sospechoso y dio PCR...</td>\n",
       "    </tr>\n",
       "    <tr>\n",
       "      <th>877</th>\n",
       "      <td>1319658756695683072</td>\n",
       "      <td>ATTENTION MOUNT PLEASANT/YVR RESIDENTS!!!Belov...</td>\n",
       "    </tr>\n",
       "  </tbody>\n",
       "</table>\n",
       "<p>878 rows × 2 columns</p>\n",
       "</div>"
      ],
      "text/plain": [
       "                      id                                               text\n",
       "0    1319655864186396674  @prezydentpl @AndrzejDuda The CDC has admitted...\n",
       "1    1319655868703641600  😷 688 новых случаев заражения #коронавирусом🏥 ...\n",
       "2    1319655869806764033  Y de esto también tiene culpa Gatell?La poblac...\n",
       "3    1319655870582718464  There has been a \"sharp increase\" in the numbe...\n",
       "4    1319655873749319680  As first reported by @journalsentinel, COVID-1...\n",
       "..                   ...                                                ...\n",
       "873  1319658738710499329  Govt identifying 30 crore 'priority' beneficia...\n",
       "874  1319658747195772928  Remember back in March. That whole just wash y...\n",
       "875  1319658750236643328  The global COVID-19 surge has forced BU to sus...\n",
       "876  1319658751285170177  @AguilarMario El caso era sospechoso y dio PCR...\n",
       "877  1319658756695683072  ATTENTION MOUNT PLEASANT/YVR RESIDENTS!!!Belov...\n",
       "\n",
       "[878 rows x 2 columns]"
      ]
     },
     "execution_count": 7,
     "metadata": {},
     "output_type": "execute_result"
    }
   ],
   "source": [
    "df"
   ]
  },
  {
   "cell_type": "markdown",
   "metadata": {},
   "source": [
    "## 2.2  Apply clearning functions to get tidy tweet \n"
   ]
  },
  {
   "cell_type": "code",
   "execution_count": 8,
   "metadata": {},
   "outputs": [
    {
     "name": "stdout",
     "output_type": "stream",
     "text": [
      "0    @prezydentpl @AndrzejDuda The CDC has admitted...\n",
      "1    😷 688 новых случаев заражения #коронавирусом🏥 ...\n",
      "2    Y de esto también tiene culpa Gatell?La poblac...\n",
      "3    There has been a \"sharp increase\" in the numbe...\n",
      "4    As first reported by @journalsentinel, COVID-1...\n",
      "Name: text, dtype: object\n",
      "**********************\n",
      "0    prezydentpl andrzejduda the cdc has admitted t...\n",
      "1     688 новых случаев заражения коронавирусом 44 ...\n",
      "2    y de esto también tiene culpa gatellla poblaci...\n",
      "3    there has been a sharp increase in the number ...\n",
      "4    as first reported by journalsentinel covid19  ...\n",
      "Name: tidy_tweet, dtype: object\n"
     ]
    }
   ],
   "source": [
    "df['tidy_tweet'] = df['text'].apply(remove_url_punctuation)\n",
    "\n",
    "print(df['text'].head())\n",
    "print(\"**********************\")\n",
    "print(df['tidy_tweet'].head())"
   ]
  },
  {
   "cell_type": "markdown",
   "metadata": {},
   "source": [
    "##  Filter english only and Tokenize words"
   ]
  },
  {
   "cell_type": "code",
   "execution_count": 13,
   "metadata": {},
   "outputs": [
    {
     "name": "stdout",
     "output_type": "stream",
     "text": [
      "Requirement already satisfied: langdetect in /Users/mozzietian/miniconda3/lib/python3.8/site-packages (1.0.8)\n",
      "Requirement already satisfied: six in /Users/mozzietian/miniconda3/lib/python3.8/site-packages (from langdetect) (1.14.0)\n",
      "0     prezydentpl andrzejduda the cdc has admitted t...\n",
      "3     there has been a sharp increase in the number ...\n",
      "4     as first reported by journalsentinel covid19  ...\n",
      "6     covid19 infection rates are rising and it is i...\n",
      "8     realdonaldtrump the person with thw factsmatte...\n",
      "9     new talkingpharmacy podcast trials amp tribula...\n",
      "11    polandmichelle nbcnews the overall covid19 dea...\n",
      "12    the 15th annual taste of soul brings community...\n",
      "13    well   just found out from my mom that about 6...\n",
      "15    good news covid19 infections rising exponentia...\n",
      "Name: tidy_tweet, dtype: object\n",
      "**********************\n",
      "0     prezydentpl andrzejduda the cdc has admitted t...\n",
      "3     there has been a sharp increase in the number ...\n",
      "4     as first reported by journalsentinel covid19  ...\n",
      "6     covid19 infection rates are rising and it is i...\n",
      "8     realdonaldtrump the person with thw factsmatte...\n",
      "9     new talkingpharmacy podcast trials amp tribula...\n",
      "11    polandmichelle nbcnews the overall covid19 dea...\n",
      "12    the 15th annual taste of soul brings community...\n",
      "13    well   just found out from my mom that about 6...\n",
      "15    good news covid19 infections rising exponentia...\n",
      "Name: tidy_tweet, dtype: object\n",
      "**********************\n",
      "0     [prezydentpl, andrzejduda, the, cdc, has, admi...\n",
      "3     [there, has, been, a, sharp, increase, in, the...\n",
      "4     [as, first, reported, by, journalsentinel, cov...\n",
      "6     [covid19, infection, rates, are, rising, and, ...\n",
      "8     [realdonaldtrump, the, person, with, thw, fact...\n",
      "9     [new, talkingpharmacy, podcast, trials, amp, t...\n",
      "11    [polandmichelle, nbcnews, the, overall, covid1...\n",
      "12    [the, 15th, annual, taste, of, soul, brings, c...\n",
      "13    [well, , , just, found, out, from, my, mom, th...\n",
      "15    [good, news, covid19, infections, rising, expo...\n",
      "Name: word_list, dtype: object\n"
     ]
    }
   ],
   "source": [
    "!/Users/mozzietian/miniconda3/bin/python -m pip install langdetect\n",
    "df['en']=df['text'].apply(detect_lang)\n",
    "print(df['tidy_tweet'].head(10))\n",
    "print(\"**********************\")\n",
    "df = df[df['en']=='en']\n",
    "print(df['tidy_tweet'].head(10))\n",
    "print(\"**********************\")\n",
    "df['word_list'] = df['tidy_tweet'].apply(split)\n",
    "print(df['word_list'].head(10))"
   ]
  },
  {
   "cell_type": "markdown",
   "metadata": {},
   "source": [
    "# Experiment of sentiment analysis model "
   ]
  },
  {
   "cell_type": "code",
   "execution_count": null,
   "metadata": {},
   "outputs": [],
   "source": []
  }
 ],
 "metadata": {
  "kernelspec": {
   "display_name": "Python 3",
   "language": "python",
   "name": "python3"
  },
  "language_info": {
   "codemirror_mode": {
    "name": "ipython",
    "version": 3
   },
   "file_extension": ".py",
   "mimetype": "text/x-python",
   "name": "python",
   "nbconvert_exporter": "python",
   "pygments_lexer": "ipython3",
   "version": "3.8.3"
  }
 },
 "nbformat": 4,
 "nbformat_minor": 4
}
