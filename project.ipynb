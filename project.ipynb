{
 "cells": [
  {
   "cell_type": "markdown",
   "metadata": {
    "_uuid": "92b885dd147dac19bd0a33db3cd0da100bd5bc23"
   },
   "source": [
    "# SFU CMPT413\n",
    "# Term Project\n",
    "# Group-Langlanucher\n",
    "# Wei Yao, Nicholas Carr\n",
    "# Generate Sentiment Polarity of Tweets Using LSTM with Word2Vec/GloVe"
   ]
  },
  {
   "cell_type": "markdown",
   "metadata": {},
   "source": [
    "# 1. Preparation Work"
   ]
  },
  {
   "cell_type": "markdown",
   "metadata": {
    "_uuid": "70282bce8b42a51e4d44f2c7d85c4ca9567b0fd4"
   },
   "source": [
    "# 1.1 Packages Installation"
   ]
  },
  {
   "cell_type": "code",
   "execution_count": 4,
   "metadata": {
    "_uuid": "303e72966af732ddef0bd8108a321095314e44af"
   },
   "outputs": [
    {
     "name": "stdout",
     "output_type": "stream",
     "text": [
      "/Users/mozzietian/miniconda3/bin/python\n"
     ]
    }
   ],
   "source": [
    "import pandas as pd\n",
    "import matplotlib.pyplot as plt\n",
    "%matplotlib inline\n",
    "from sklearn.model_selection import train_test_split\n",
    "from sklearn.preprocessing import LabelEncoder\n",
    "from sklearn.metrics import confusion_matrix, classification_report, accuracy_score\n",
    "from sklearn.manifold import TSNE\n",
    "from sklearn.feature_extraction.text import TfidfVectorizer\n",
    "from keras.preprocessing.text import Tokenizer\n",
    "from keras.preprocessing.sequence import pad_sequences\n",
    "from keras.models import Sequential\n",
    "from keras.layers import Activation, Dense, Dropout, Embedding, Flatten, Conv1D, MaxPooling1D, LSTM\n",
    "from keras import utils\n",
    "from keras.callbacks import ReduceLROnPlateau, EarlyStopping\n",
    "import matplotlib.pyplot as plt\n",
    "from sklearn.model_selection import train_test_split\n",
    "from sklearn.naive_bayes import GaussianNB\n",
    "from sklearn.preprocessing import FunctionTransformer\n",
    "from sklearn.pipeline import make_pipeline\n",
    "from sklearn.neighbors import KNeighborsClassifier\n",
    "from sklearn.ensemble import RandomForestClassifier\n",
    "from sklearn.preprocessing import MinMaxScaler\n",
    "from sklearn.cluster import KMeans\n",
    "from sklearn.decomposition import PCA\n",
    "from sklearn.svm import SVC\n",
    "from sklearn.preprocessing import StandardScaler\n",
    "from sklearn.feature_selection import chi2\n",
    "from sklearn import preprocessing\n",
    "from sklearn.ensemble import GradientBoostingClassifier\n",
    "from sklearn.ensemble import AdaBoostClassifier\n",
    "from sklearn.neural_network import MLPClassifier\n",
    "from sklearn import metrics\n",
    "from sklearn.neighbors import KNeighborsClassifier\n",
    "import collections\n",
    "import nltk\n",
    "from nltk.corpus import stopwords\n",
    "import sys\n",
    "import nltk\n",
    "from nltk.corpus import stopwords\n",
    "from  nltk.stem import SnowballStemmer\n",
    "import gensim\n",
    "import re\n",
    "import numpy as np\n",
    "import os\n",
    "from collections import Counter\n",
    "import logging\n",
    "import time\n",
    "import pickle\n",
    "import itertools\n",
    "#!/Users/mozzietian/miniconda3/bin/python -m pip install wordcloud\n",
    "from wordcloud import WordCloud\n",
    "\n",
    "logging.basicConfig(format='%(asctime)s : %(levelname)s : %(message)s', level=logging.INFO)\n",
    "print(sys.executable)"
   ]
  },
  {
   "cell_type": "markdown",
   "metadata": {
    "_uuid": "e8b01a07df001e4abcc745900336c4db06e455f3"
   },
   "source": [
    "# 1.2 Build  helper functions to filter data"
   ]
  },
  {
   "cell_type": "code",
   "execution_count": 11,
   "metadata": {
    "_uuid": "180f0dd2a95419e4602b5c0229822b0111c826f6"
   },
   "outputs": [],
   "source": [
    "# def helper fuctions to process extracted tweet file D2.txt \n",
    "# mainly focused on remove url + punctuation + stopwords+ other languages\n",
    "# split into lits of words \n",
    "def remove_url_punctuation(x):\n",
    "    #get rid of url, punctuations, hashtags\n",
    "  \n",
    "    url_pattern= re.compile(r'https?://\\S+|www\\.\\S+')\n",
    "    replace_url =url_pattern.sub(r'',str(x))\n",
    "    punctuation = re.compile(r'[^\\w\\s]')\n",
    "    without_punctuation = punctuation.sub(r'',replace_url).lower()\n",
    "    return without_punctuation\n",
    "    \n",
    "def split(x):\n",
    "    #generate pieces of tokens from the entire text\n",
    "    \n",
    "    split_word_list = x.split(\" \")\n",
    "    return split_word_list\n",
    "\n",
    "def remove_stopwords(x):\n",
    "    #remove stop words\n",
    "    global stop_words\n",
    "    \n",
    "    without_stopwords = []\n",
    "    for word in x:\n",
    "        if word not in stop_words and len(word)>2 and word != 'nan':\n",
    "            without_stopwords.append(word)\n",
    "    return without_stopwords\n",
    "\n",
    "def detect_lang(x):\n",
    "    #extract english tweet only\n",
    "    \n",
    "    from langdetect import detect\n",
    "    try:\n",
    "        lang = detect(x)\n",
    "        return(lang)\n",
    "    except:\n",
    "        return(\"other\")\n",
    "    \n",
    "def decode_sentiment(label):\n",
    "    return decode_map[int(label)]\n",
    "\n",
    "# pre-defined words\n",
    "\n",
    "TRAIN_SIZE = 0.8\n",
    "TEXT_CLEANING_RE = \"@\\S+|https?:\\S+|http?:\\S|[^A-Za-z0-9]+\"\n",
    "\n",
    "\n",
    "SENTIMENT_THRESHOLDS = (0.4, 0.7)\n",
    "\n",
    "# EXPORT\n",
    "KERAS_MODEL = \"model.h5\"\n",
    "WORD2VEC_MODEL = \"model.w2v\"\n",
    "TOKENIZER_MODEL = \"tokenizer.pkl\"\n",
    "ENCODER_MODEL = \"encoder.pkl\""
   ]
  },
  {
   "cell_type": "markdown",
   "metadata": {},
   "source": [
    "# 2. Data"
   ]
  },
  {
   "cell_type": "markdown",
   "metadata": {
    "_uuid": "1c3beecc618be68480b3d4f0de08d9d863da1dc1"
   },
   "source": [
    "# 2.1 Load data with Numpy"
   ]
  },
  {
   "cell_type": "code",
   "execution_count": 9,
   "metadata": {
    "_uuid": "bba8f91cd70de4f5ea0fb0870ae2029b6e3dcc24"
   },
   "outputs": [],
   "source": [
    "\n",
    "df = pd.read_csv(\"df.csv\", encoding = \"ISO-8859-1\", names=[\"target\", \"ids\", \"date\", \"flag\", \"user\", \"text\"])"
   ]
  },
  {
   "cell_type": "code",
   "execution_count": 10,
   "metadata": {
    "_uuid": "936d499c00c4f1648bc16ca9d283c3b39be7fb10"
   },
   "outputs": [
    {
     "name": "stdout",
     "output_type": "stream",
     "text": [
      "Size - the # of tweets: 1600000\n"
     ]
    }
   ],
   "source": [
    "print(\"Size - the # of tweets:\", len(df))"
   ]
  },
  {
   "cell_type": "code",
   "execution_count": 52,
   "metadata": {
    "_uuid": "7486ed895b813c5246f97b31b6162b0f65ff763b"
   },
   "outputs": [
    {
     "data": {
      "text/html": [
       "<div>\n",
       "<style scoped>\n",
       "    .dataframe tbody tr th:only-of-type {\n",
       "        vertical-align: middle;\n",
       "    }\n",
       "\n",
       "    .dataframe tbody tr th {\n",
       "        vertical-align: top;\n",
       "    }\n",
       "\n",
       "    .dataframe thead th {\n",
       "        text-align: right;\n",
       "    }\n",
       "</style>\n",
       "<table border=\"1\" class=\"dataframe\">\n",
       "  <thead>\n",
       "    <tr style=\"text-align: right;\">\n",
       "      <th></th>\n",
       "      <th>target</th>\n",
       "      <th>ids</th>\n",
       "      <th>date</th>\n",
       "      <th>flag</th>\n",
       "      <th>user</th>\n",
       "      <th>text</th>\n",
       "    </tr>\n",
       "  </thead>\n",
       "  <tbody>\n",
       "    <tr>\n",
       "      <th>0</th>\n",
       "      <td>0</td>\n",
       "      <td>1467810369</td>\n",
       "      <td>Mon Apr 06 22:19:45 PDT 2009</td>\n",
       "      <td>NO_QUERY</td>\n",
       "      <td>_TheSpecialOne_</td>\n",
       "      <td>@switchfoot http://twitpic.com/2y1zl - Awww, t...</td>\n",
       "    </tr>\n",
       "    <tr>\n",
       "      <th>1</th>\n",
       "      <td>0</td>\n",
       "      <td>1467810672</td>\n",
       "      <td>Mon Apr 06 22:19:49 PDT 2009</td>\n",
       "      <td>NO_QUERY</td>\n",
       "      <td>scotthamilton</td>\n",
       "      <td>is upset that he can't update his Facebook by ...</td>\n",
       "    </tr>\n",
       "    <tr>\n",
       "      <th>2</th>\n",
       "      <td>0</td>\n",
       "      <td>1467810917</td>\n",
       "      <td>Mon Apr 06 22:19:53 PDT 2009</td>\n",
       "      <td>NO_QUERY</td>\n",
       "      <td>mattycus</td>\n",
       "      <td>@Kenichan I dived many times for the ball. Man...</td>\n",
       "    </tr>\n",
       "    <tr>\n",
       "      <th>3</th>\n",
       "      <td>0</td>\n",
       "      <td>1467811184</td>\n",
       "      <td>Mon Apr 06 22:19:57 PDT 2009</td>\n",
       "      <td>NO_QUERY</td>\n",
       "      <td>ElleCTF</td>\n",
       "      <td>my whole body feels itchy and like its on fire</td>\n",
       "    </tr>\n",
       "    <tr>\n",
       "      <th>4</th>\n",
       "      <td>0</td>\n",
       "      <td>1467811193</td>\n",
       "      <td>Mon Apr 06 22:19:57 PDT 2009</td>\n",
       "      <td>NO_QUERY</td>\n",
       "      <td>Karoli</td>\n",
       "      <td>@nationwideclass no, it's not behaving at all....</td>\n",
       "    </tr>\n",
       "    <tr>\n",
       "      <th>5</th>\n",
       "      <td>0</td>\n",
       "      <td>1467811372</td>\n",
       "      <td>Mon Apr 06 22:20:00 PDT 2009</td>\n",
       "      <td>NO_QUERY</td>\n",
       "      <td>joy_wolf</td>\n",
       "      <td>@Kwesidei not the whole crew</td>\n",
       "    </tr>\n",
       "    <tr>\n",
       "      <th>6</th>\n",
       "      <td>0</td>\n",
       "      <td>1467811592</td>\n",
       "      <td>Mon Apr 06 22:20:03 PDT 2009</td>\n",
       "      <td>NO_QUERY</td>\n",
       "      <td>mybirch</td>\n",
       "      <td>Need a hug</td>\n",
       "    </tr>\n",
       "    <tr>\n",
       "      <th>7</th>\n",
       "      <td>0</td>\n",
       "      <td>1467811594</td>\n",
       "      <td>Mon Apr 06 22:20:03 PDT 2009</td>\n",
       "      <td>NO_QUERY</td>\n",
       "      <td>coZZ</td>\n",
       "      <td>@LOLTrish hey  long time no see! Yes.. Rains a...</td>\n",
       "    </tr>\n",
       "    <tr>\n",
       "      <th>8</th>\n",
       "      <td>0</td>\n",
       "      <td>1467811795</td>\n",
       "      <td>Mon Apr 06 22:20:05 PDT 2009</td>\n",
       "      <td>NO_QUERY</td>\n",
       "      <td>2Hood4Hollywood</td>\n",
       "      <td>@Tatiana_K nope they didn't have it</td>\n",
       "    </tr>\n",
       "    <tr>\n",
       "      <th>9</th>\n",
       "      <td>0</td>\n",
       "      <td>1467812025</td>\n",
       "      <td>Mon Apr 06 22:20:09 PDT 2009</td>\n",
       "      <td>NO_QUERY</td>\n",
       "      <td>mimismo</td>\n",
       "      <td>@twittera que me muera ?</td>\n",
       "    </tr>\n",
       "  </tbody>\n",
       "</table>\n",
       "</div>"
      ],
      "text/plain": [
       "   target         ids                          date      flag  \\\n",
       "0       0  1467810369  Mon Apr 06 22:19:45 PDT 2009  NO_QUERY   \n",
       "1       0  1467810672  Mon Apr 06 22:19:49 PDT 2009  NO_QUERY   \n",
       "2       0  1467810917  Mon Apr 06 22:19:53 PDT 2009  NO_QUERY   \n",
       "3       0  1467811184  Mon Apr 06 22:19:57 PDT 2009  NO_QUERY   \n",
       "4       0  1467811193  Mon Apr 06 22:19:57 PDT 2009  NO_QUERY   \n",
       "5       0  1467811372  Mon Apr 06 22:20:00 PDT 2009  NO_QUERY   \n",
       "6       0  1467811592  Mon Apr 06 22:20:03 PDT 2009  NO_QUERY   \n",
       "7       0  1467811594  Mon Apr 06 22:20:03 PDT 2009  NO_QUERY   \n",
       "8       0  1467811795  Mon Apr 06 22:20:05 PDT 2009  NO_QUERY   \n",
       "9       0  1467812025  Mon Apr 06 22:20:09 PDT 2009  NO_QUERY   \n",
       "\n",
       "              user                                               text  \n",
       "0  _TheSpecialOne_  @switchfoot http://twitpic.com/2y1zl - Awww, t...  \n",
       "1    scotthamilton  is upset that he can't update his Facebook by ...  \n",
       "2         mattycus  @Kenichan I dived many times for the ball. Man...  \n",
       "3          ElleCTF    my whole body feels itchy and like its on fire   \n",
       "4           Karoli  @nationwideclass no, it's not behaving at all....  \n",
       "5         joy_wolf                      @Kwesidei not the whole crew   \n",
       "6          mybirch                                        Need a hug   \n",
       "7             coZZ  @LOLTrish hey  long time no see! Yes.. Rains a...  \n",
       "8  2Hood4Hollywood               @Tatiana_K nope they didn't have it   \n",
       "9          mimismo                          @twittera que me muera ?   "
      ]
     },
     "execution_count": 52,
     "metadata": {},
     "output_type": "execute_result"
    }
   ],
   "source": [
    "df.head(10)"
   ]
  },
  {
   "cell_type": "code",
   "execution_count": 12,
   "metadata": {},
   "outputs": [],
   "source": [
    "df['text'] = df['text'].apply(remove_url_punctuation)"
   ]
  },
  {
   "cell_type": "code",
   "execution_count": 13,
   "metadata": {},
   "outputs": [
    {
     "data": {
      "text/html": [
       "<div>\n",
       "<style scoped>\n",
       "    .dataframe tbody tr th:only-of-type {\n",
       "        vertical-align: middle;\n",
       "    }\n",
       "\n",
       "    .dataframe tbody tr th {\n",
       "        vertical-align: top;\n",
       "    }\n",
       "\n",
       "    .dataframe thead th {\n",
       "        text-align: right;\n",
       "    }\n",
       "</style>\n",
       "<table border=\"1\" class=\"dataframe\">\n",
       "  <thead>\n",
       "    <tr style=\"text-align: right;\">\n",
       "      <th></th>\n",
       "      <th>target</th>\n",
       "      <th>ids</th>\n",
       "      <th>date</th>\n",
       "      <th>flag</th>\n",
       "      <th>user</th>\n",
       "      <th>text</th>\n",
       "    </tr>\n",
       "  </thead>\n",
       "  <tbody>\n",
       "    <tr>\n",
       "      <th>0</th>\n",
       "      <td>0</td>\n",
       "      <td>1467810369</td>\n",
       "      <td>Mon Apr 06 22:19:45 PDT 2009</td>\n",
       "      <td>NO_QUERY</td>\n",
       "      <td>_TheSpecialOne_</td>\n",
       "      <td>switchfoot   awww thats a bummer  you shoulda ...</td>\n",
       "    </tr>\n",
       "    <tr>\n",
       "      <th>1</th>\n",
       "      <td>0</td>\n",
       "      <td>1467810672</td>\n",
       "      <td>Mon Apr 06 22:19:49 PDT 2009</td>\n",
       "      <td>NO_QUERY</td>\n",
       "      <td>scotthamilton</td>\n",
       "      <td>is upset that he cant update his facebook by t...</td>\n",
       "    </tr>\n",
       "    <tr>\n",
       "      <th>2</th>\n",
       "      <td>0</td>\n",
       "      <td>1467810917</td>\n",
       "      <td>Mon Apr 06 22:19:53 PDT 2009</td>\n",
       "      <td>NO_QUERY</td>\n",
       "      <td>mattycus</td>\n",
       "      <td>kenichan i dived many times for the ball manag...</td>\n",
       "    </tr>\n",
       "    <tr>\n",
       "      <th>3</th>\n",
       "      <td>0</td>\n",
       "      <td>1467811184</td>\n",
       "      <td>Mon Apr 06 22:19:57 PDT 2009</td>\n",
       "      <td>NO_QUERY</td>\n",
       "      <td>ElleCTF</td>\n",
       "      <td>my whole body feels itchy and like its on fire</td>\n",
       "    </tr>\n",
       "    <tr>\n",
       "      <th>4</th>\n",
       "      <td>0</td>\n",
       "      <td>1467811193</td>\n",
       "      <td>Mon Apr 06 22:19:57 PDT 2009</td>\n",
       "      <td>NO_QUERY</td>\n",
       "      <td>Karoli</td>\n",
       "      <td>nationwideclass no its not behaving at all im ...</td>\n",
       "    </tr>\n",
       "    <tr>\n",
       "      <th>5</th>\n",
       "      <td>0</td>\n",
       "      <td>1467811372</td>\n",
       "      <td>Mon Apr 06 22:20:00 PDT 2009</td>\n",
       "      <td>NO_QUERY</td>\n",
       "      <td>joy_wolf</td>\n",
       "      <td>kwesidei not the whole crew</td>\n",
       "    </tr>\n",
       "    <tr>\n",
       "      <th>6</th>\n",
       "      <td>0</td>\n",
       "      <td>1467811592</td>\n",
       "      <td>Mon Apr 06 22:20:03 PDT 2009</td>\n",
       "      <td>NO_QUERY</td>\n",
       "      <td>mybirch</td>\n",
       "      <td>need a hug</td>\n",
       "    </tr>\n",
       "    <tr>\n",
       "      <th>7</th>\n",
       "      <td>0</td>\n",
       "      <td>1467811594</td>\n",
       "      <td>Mon Apr 06 22:20:03 PDT 2009</td>\n",
       "      <td>NO_QUERY</td>\n",
       "      <td>coZZ</td>\n",
       "      <td>loltrish hey  long time no see yes rains a bit...</td>\n",
       "    </tr>\n",
       "    <tr>\n",
       "      <th>8</th>\n",
       "      <td>0</td>\n",
       "      <td>1467811795</td>\n",
       "      <td>Mon Apr 06 22:20:05 PDT 2009</td>\n",
       "      <td>NO_QUERY</td>\n",
       "      <td>2Hood4Hollywood</td>\n",
       "      <td>tatiana_k nope they didnt have it</td>\n",
       "    </tr>\n",
       "    <tr>\n",
       "      <th>9</th>\n",
       "      <td>0</td>\n",
       "      <td>1467812025</td>\n",
       "      <td>Mon Apr 06 22:20:09 PDT 2009</td>\n",
       "      <td>NO_QUERY</td>\n",
       "      <td>mimismo</td>\n",
       "      <td>twittera que me muera</td>\n",
       "    </tr>\n",
       "  </tbody>\n",
       "</table>\n",
       "</div>"
      ],
      "text/plain": [
       "   target         ids                          date      flag  \\\n",
       "0       0  1467810369  Mon Apr 06 22:19:45 PDT 2009  NO_QUERY   \n",
       "1       0  1467810672  Mon Apr 06 22:19:49 PDT 2009  NO_QUERY   \n",
       "2       0  1467810917  Mon Apr 06 22:19:53 PDT 2009  NO_QUERY   \n",
       "3       0  1467811184  Mon Apr 06 22:19:57 PDT 2009  NO_QUERY   \n",
       "4       0  1467811193  Mon Apr 06 22:19:57 PDT 2009  NO_QUERY   \n",
       "5       0  1467811372  Mon Apr 06 22:20:00 PDT 2009  NO_QUERY   \n",
       "6       0  1467811592  Mon Apr 06 22:20:03 PDT 2009  NO_QUERY   \n",
       "7       0  1467811594  Mon Apr 06 22:20:03 PDT 2009  NO_QUERY   \n",
       "8       0  1467811795  Mon Apr 06 22:20:05 PDT 2009  NO_QUERY   \n",
       "9       0  1467812025  Mon Apr 06 22:20:09 PDT 2009  NO_QUERY   \n",
       "\n",
       "              user                                               text  \n",
       "0  _TheSpecialOne_  switchfoot   awww thats a bummer  you shoulda ...  \n",
       "1    scotthamilton  is upset that he cant update his facebook by t...  \n",
       "2         mattycus  kenichan i dived many times for the ball manag...  \n",
       "3          ElleCTF    my whole body feels itchy and like its on fire   \n",
       "4           Karoli  nationwideclass no its not behaving at all im ...  \n",
       "5         joy_wolf                       kwesidei not the whole crew   \n",
       "6          mybirch                                        need a hug   \n",
       "7             coZZ  loltrish hey  long time no see yes rains a bit...  \n",
       "8  2Hood4Hollywood                 tatiana_k nope they didnt have it   \n",
       "9          mimismo                            twittera que me muera    "
      ]
     },
     "execution_count": 13,
     "metadata": {},
     "output_type": "execute_result"
    }
   ],
   "source": [
    "df.head(10)"
   ]
  },
  {
   "cell_type": "markdown",
   "metadata": {},
   "source": [
    "# 2.2 Decode target \n",
    "#Map target attribute from [0, 2, 4] into [\"NEGATIVE\",\"POSITIVE\"] "
   ]
  },
  {
   "cell_type": "code",
   "execution_count": 24,
   "metadata": {
    "_uuid": "14074b59106cb9550440839e48b832223fc9502f"
   },
   "outputs": [],
   "source": [
    "decode_map = {0: \"NEGATIVE\", 4: \"POSITIVE\"}\n",
    "df['target'].replace(decode_map, inplace=True)"
   ]
  },
  {
   "cell_type": "code",
   "execution_count": 25,
   "metadata": {
    "_uuid": "4449d473187f647a195a6ac6986b009da32a7f4b"
   },
   "outputs": [],
   "source": [
    "\n",
    "#df.target = df.target.apply(lambda x: decode_sentiment(x))"
   ]
  },
  {
   "cell_type": "code",
   "execution_count": 26,
   "metadata": {},
   "outputs": [
    {
     "data": {
      "text/html": [
       "<div>\n",
       "<style scoped>\n",
       "    .dataframe tbody tr th:only-of-type {\n",
       "        vertical-align: middle;\n",
       "    }\n",
       "\n",
       "    .dataframe tbody tr th {\n",
       "        vertical-align: top;\n",
       "    }\n",
       "\n",
       "    .dataframe thead th {\n",
       "        text-align: right;\n",
       "    }\n",
       "</style>\n",
       "<table border=\"1\" class=\"dataframe\">\n",
       "  <thead>\n",
       "    <tr style=\"text-align: right;\">\n",
       "      <th></th>\n",
       "      <th>target</th>\n",
       "      <th>ids</th>\n",
       "      <th>date</th>\n",
       "      <th>flag</th>\n",
       "      <th>user</th>\n",
       "      <th>text</th>\n",
       "    </tr>\n",
       "  </thead>\n",
       "  <tbody>\n",
       "    <tr>\n",
       "      <th>0</th>\n",
       "      <td>NEGATIVE</td>\n",
       "      <td>1467810369</td>\n",
       "      <td>Mon Apr 06 22:19:45 PDT 2009</td>\n",
       "      <td>NO_QUERY</td>\n",
       "      <td>_TheSpecialOne_</td>\n",
       "      <td>switchfoot   awww thats a bummer  you shoulda ...</td>\n",
       "    </tr>\n",
       "    <tr>\n",
       "      <th>1</th>\n",
       "      <td>NEGATIVE</td>\n",
       "      <td>1467810672</td>\n",
       "      <td>Mon Apr 06 22:19:49 PDT 2009</td>\n",
       "      <td>NO_QUERY</td>\n",
       "      <td>scotthamilton</td>\n",
       "      <td>is upset that he cant update his facebook by t...</td>\n",
       "    </tr>\n",
       "    <tr>\n",
       "      <th>2</th>\n",
       "      <td>NEGATIVE</td>\n",
       "      <td>1467810917</td>\n",
       "      <td>Mon Apr 06 22:19:53 PDT 2009</td>\n",
       "      <td>NO_QUERY</td>\n",
       "      <td>mattycus</td>\n",
       "      <td>kenichan i dived many times for the ball manag...</td>\n",
       "    </tr>\n",
       "    <tr>\n",
       "      <th>3</th>\n",
       "      <td>NEGATIVE</td>\n",
       "      <td>1467811184</td>\n",
       "      <td>Mon Apr 06 22:19:57 PDT 2009</td>\n",
       "      <td>NO_QUERY</td>\n",
       "      <td>ElleCTF</td>\n",
       "      <td>my whole body feels itchy and like its on fire</td>\n",
       "    </tr>\n",
       "    <tr>\n",
       "      <th>4</th>\n",
       "      <td>NEGATIVE</td>\n",
       "      <td>1467811193</td>\n",
       "      <td>Mon Apr 06 22:19:57 PDT 2009</td>\n",
       "      <td>NO_QUERY</td>\n",
       "      <td>Karoli</td>\n",
       "      <td>nationwideclass no its not behaving at all im ...</td>\n",
       "    </tr>\n",
       "    <tr>\n",
       "      <th>5</th>\n",
       "      <td>NEGATIVE</td>\n",
       "      <td>1467811372</td>\n",
       "      <td>Mon Apr 06 22:20:00 PDT 2009</td>\n",
       "      <td>NO_QUERY</td>\n",
       "      <td>joy_wolf</td>\n",
       "      <td>kwesidei not the whole crew</td>\n",
       "    </tr>\n",
       "    <tr>\n",
       "      <th>6</th>\n",
       "      <td>NEGATIVE</td>\n",
       "      <td>1467811592</td>\n",
       "      <td>Mon Apr 06 22:20:03 PDT 2009</td>\n",
       "      <td>NO_QUERY</td>\n",
       "      <td>mybirch</td>\n",
       "      <td>need a hug</td>\n",
       "    </tr>\n",
       "    <tr>\n",
       "      <th>7</th>\n",
       "      <td>NEGATIVE</td>\n",
       "      <td>1467811594</td>\n",
       "      <td>Mon Apr 06 22:20:03 PDT 2009</td>\n",
       "      <td>NO_QUERY</td>\n",
       "      <td>coZZ</td>\n",
       "      <td>loltrish hey  long time no see yes rains a bit...</td>\n",
       "    </tr>\n",
       "    <tr>\n",
       "      <th>8</th>\n",
       "      <td>NEGATIVE</td>\n",
       "      <td>1467811795</td>\n",
       "      <td>Mon Apr 06 22:20:05 PDT 2009</td>\n",
       "      <td>NO_QUERY</td>\n",
       "      <td>2Hood4Hollywood</td>\n",
       "      <td>tatiana_k nope they didnt have it</td>\n",
       "    </tr>\n",
       "    <tr>\n",
       "      <th>9</th>\n",
       "      <td>NEGATIVE</td>\n",
       "      <td>1467812025</td>\n",
       "      <td>Mon Apr 06 22:20:09 PDT 2009</td>\n",
       "      <td>NO_QUERY</td>\n",
       "      <td>mimismo</td>\n",
       "      <td>twittera que me muera</td>\n",
       "    </tr>\n",
       "  </tbody>\n",
       "</table>\n",
       "</div>"
      ],
      "text/plain": [
       "     target         ids                          date      flag  \\\n",
       "0  NEGATIVE  1467810369  Mon Apr 06 22:19:45 PDT 2009  NO_QUERY   \n",
       "1  NEGATIVE  1467810672  Mon Apr 06 22:19:49 PDT 2009  NO_QUERY   \n",
       "2  NEGATIVE  1467810917  Mon Apr 06 22:19:53 PDT 2009  NO_QUERY   \n",
       "3  NEGATIVE  1467811184  Mon Apr 06 22:19:57 PDT 2009  NO_QUERY   \n",
       "4  NEGATIVE  1467811193  Mon Apr 06 22:19:57 PDT 2009  NO_QUERY   \n",
       "5  NEGATIVE  1467811372  Mon Apr 06 22:20:00 PDT 2009  NO_QUERY   \n",
       "6  NEGATIVE  1467811592  Mon Apr 06 22:20:03 PDT 2009  NO_QUERY   \n",
       "7  NEGATIVE  1467811594  Mon Apr 06 22:20:03 PDT 2009  NO_QUERY   \n",
       "8  NEGATIVE  1467811795  Mon Apr 06 22:20:05 PDT 2009  NO_QUERY   \n",
       "9  NEGATIVE  1467812025  Mon Apr 06 22:20:09 PDT 2009  NO_QUERY   \n",
       "\n",
       "              user                                               text  \n",
       "0  _TheSpecialOne_  switchfoot   awww thats a bummer  you shoulda ...  \n",
       "1    scotthamilton  is upset that he cant update his facebook by t...  \n",
       "2         mattycus  kenichan i dived many times for the ball manag...  \n",
       "3          ElleCTF    my whole body feels itchy and like its on fire   \n",
       "4           Karoli  nationwideclass no its not behaving at all im ...  \n",
       "5         joy_wolf                       kwesidei not the whole crew   \n",
       "6          mybirch                                        need a hug   \n",
       "7             coZZ  loltrish hey  long time no see yes rains a bit...  \n",
       "8  2Hood4Hollywood                 tatiana_k nope they didnt have it   \n",
       "9          mimismo                            twittera que me muera    "
      ]
     },
     "execution_count": 26,
     "metadata": {},
     "output_type": "execute_result"
    }
   ],
   "source": [
    "df.head(10)"
   ]
  },
  {
   "cell_type": "markdown",
   "metadata": {},
   "source": [
    "# 2.3 Overview of data distribution"
   ]
  },
  {
   "cell_type": "code",
   "execution_count": 27,
   "metadata": {
    "_uuid": "19eb327803192f31cce3512aacb232f4d6b38715"
   },
   "outputs": [
    {
     "name": "stdout",
     "output_type": "stream",
     "text": [
      "Labels: ['NEGATIVE', 'POSITIVE']\n",
      "Amounts: [800000, 800000]\n"
     ]
    },
    {
     "data": {
      "image/png": "[encoded data removed]",
      "text/plain": [
       "<Figure size 432x288 with 1 Axes>"
      ]
     },
     "metadata": {},
     "output_type": "display_data"
    }
   ],
   "source": [
    "target_cnt = Counter(df.target)\n",
    "my_targets = list(target_cnt.keys())\n",
    "my_targets_amount = list(target_cnt.values())\n",
    "print(\"Labels:\",my_targets )\n",
    "print(\"Amounts:\",my_targets_amount)\n",
    "my_targets1=my_targets[0]\n",
    "my_targets2=my_targets[1]\n",
    "\n",
    "sizes1 = [2, 2]\n",
    "explode1 = (0, 0.05)\n",
    "labels = ('NEGATIVE', 'POSITIVE')\n",
    "\n",
    "fig1, ax1 = plt.subplots()\n",
    "_, _, autopcts = ax1.pie(sizes1,explode= explode1, labels=labels, autopct='%1.1f%%',\n",
    "        shadow=False,startangle=40, colors=('tab:red', 'tab:blue'))\n",
    "\n",
    "plt.setp(autopcts, **{'color':'white', 'weight':'bold', 'fontsize':12.5})\n",
    "ax1.set_title('Sentiment Labels', fontdict={'fontsize': 17})\n",
    "\n",
    "plt.show()\n"
   ]
  },
  {
   "cell_type": "markdown",
   "metadata": {
    "_uuid": "4329b1573518b03e497213efa7676220734ebb4b"
   },
   "source": [
    "# 2.4 Pre-Process Dataset"
   ]
  },
  {
   "cell_type": "code",
   "execution_count": 14,
   "metadata": {
    "_uuid": "8aeee8b7b9ea11b749c7f91cd4787a7b50ed1a91"
   },
   "outputs": [],
   "source": [
    "stop_words = stopwords.words(\"english\")\n",
    "stemmer = SnowballStemmer(\"english\")"
   ]
  },
  {
   "cell_type": "code",
   "execution_count": 15,
   "metadata": {
    "_uuid": "649ebcb97969b9ac4301138783704bb3d7846a49"
   },
   "outputs": [],
   "source": [
    "def preprocess(text, stem=False):\n",
    "    # Remove link,user and special characters\n",
    "    text = re.sub(TEXT_CLEANING_RE, ' ', str(text).lower()).strip()\n",
    "    tokens = []\n",
    "    for token in text.split():\n",
    "        if token not in stop_words:\n",
    "            if stem:\n",
    "                tokens.append(stemmer.stem(token))\n",
    "            else:\n",
    "                tokens.append(token)\n",
    "    return \" \".join(tokens)"
   ]
  },
  {
   "cell_type": "code",
   "execution_count": 28,
   "metadata": {
    "_uuid": "f7f3e77ab9291d14687c49e71ba9b2b1e3323432"
   },
   "outputs": [
    {
     "name": "stdout",
     "output_type": "stream",
     "text": [
      "CPU times: user 5.34 s, sys: 189 ms, total: 5.53 s\n",
      "Wall time: 5.53 s\n"
     ]
    }
   ],
   "source": [
    "%%time\n",
    "df.text = df.text.apply(lambda x: remove_url_punctuation(x))"
   ]
  },
  {
   "cell_type": "markdown",
   "metadata": {},
   "source": [
    "# 3 Experiment with Word2Vec and GloVe"
   ]
  },
  {
   "cell_type": "markdown",
   "metadata": {
    "_uuid": "f5f9714a8507409bbe780eebf2855a33e8e6ba37"
   },
   "source": [
    "# 3.1 Word2Vec Embedding"
   ]
  },
  {
   "cell_type": "markdown",
   "metadata": {},
   "source": [
    "## 3.1.1 Build W2V"
   ]
  },
  {
   "cell_type": "code",
   "execution_count": 31,
   "metadata": {
    "_uuid": "8e19b9f25801ba86420decc266d2b3e6fb44f1ea"
   },
   "outputs": [],
   "source": [
    "# Tokenize text \n",
    "documents = [_text.split() for _text in df_train.text] \n",
    "# Split data\n",
    "df_train, df_test = train_test_split(df, test_size=0.2, random_state=42)\n",
    "# Initialize w2v_model\n",
    "w2v_model = gensim.models.word2vec.Word2Vec(size=300, \n",
    "                                            window=7, \n",
    "                                            min_count=10, \n",
    "                                            workers=8)"
   ]
  },
  {
   "cell_type": "code",
   "execution_count": 32,
   "metadata": {
    "_uuid": "58d655af07653c594bec6bebcfb302a973b0ad9c"
   },
   "outputs": [
    {
     "name": "stderr",
     "output_type": "stream",
     "text": [
      "2020-12-07 23:02:14,171 : INFO : collecting all words and their counts\n",
      "2020-12-07 23:02:14,172 : INFO : PROGRESS: at sentence #0, processed 0 words, keeping 0 word types\n",
      "2020-12-07 23:02:14,197 : INFO : PROGRESS: at sentence #10000, processed 130310 words, keeping 19709 word types\n",
      "2020-12-07 23:02:14,228 : INFO : PROGRESS: at sentence #20000, processed 259980 words, keeping 32625 word types\n",
      "2020-12-07 23:02:14,261 : INFO : PROGRESS: at sentence #30000, processed 388297 words, keeping 43758 word types\n",
      "2020-12-07 23:02:14,297 : INFO : PROGRESS: at sentence #40000, processed 519178 words, keeping 53977 word types\n",
      "2020-12-07 23:02:14,330 : INFO : PROGRESS: at sentence #50000, processed 648299 words, keeping 63740 word types\n",
      "2020-12-07 23:02:14,363 : INFO : PROGRESS: at sentence #60000, processed 777453 words, keeping 73097 word types\n",
      "2020-12-07 23:02:14,399 : INFO : PROGRESS: at sentence #70000, processed 906617 words, keeping 81934 word types\n",
      "2020-12-07 23:02:14,436 : INFO : PROGRESS: at sentence #80000, processed 1037515 words, keeping 90382 word types\n",
      "2020-12-07 23:02:14,470 : INFO : PROGRESS: at sentence #90000, processed 1166338 words, keeping 98464 word types\n",
      "2020-12-07 23:02:14,502 : INFO : PROGRESS: at sentence #100000, processed 1295737 words, keeping 106624 word types\n",
      "2020-12-07 23:02:14,535 : INFO : PROGRESS: at sentence #110000, processed 1425969 words, keeping 114300 word types\n",
      "2020-12-07 23:02:14,567 : INFO : PROGRESS: at sentence #120000, processed 1556460 words, keeping 121894 word types\n",
      "2020-12-07 23:02:14,600 : INFO : PROGRESS: at sentence #130000, processed 1685934 words, keeping 129301 word types\n",
      "2020-12-07 23:02:14,634 : INFO : PROGRESS: at sentence #140000, processed 1815353 words, keeping 136523 word types\n",
      "2020-12-07 23:02:14,667 : INFO : PROGRESS: at sentence #150000, processed 1944830 words, keeping 143696 word types\n",
      "2020-12-07 23:02:14,700 : INFO : PROGRESS: at sentence #160000, processed 2073439 words, keeping 150747 word types\n",
      "2020-12-07 23:02:14,732 : INFO : PROGRESS: at sentence #170000, processed 2203413 words, keeping 157829 word types\n",
      "2020-12-07 23:02:14,765 : INFO : PROGRESS: at sentence #180000, processed 2333939 words, keeping 164738 word types\n",
      "2020-12-07 23:02:14,799 : INFO : PROGRESS: at sentence #190000, processed 2465253 words, keeping 171572 word types\n",
      "2020-12-07 23:02:14,842 : INFO : PROGRESS: at sentence #200000, processed 2594708 words, keeping 178136 word types\n",
      "2020-12-07 23:02:14,876 : INFO : PROGRESS: at sentence #210000, processed 2725102 words, keeping 184587 word types\n",
      "2020-12-07 23:02:14,908 : INFO : PROGRESS: at sentence #220000, processed 2855560 words, keeping 191070 word types\n",
      "2020-12-07 23:02:14,942 : INFO : PROGRESS: at sentence #230000, processed 2985061 words, keeping 197518 word types\n",
      "2020-12-07 23:02:14,976 : INFO : PROGRESS: at sentence #240000, processed 3115138 words, keeping 203776 word types\n",
      "2020-12-07 23:02:15,008 : INFO : PROGRESS: at sentence #250000, processed 3245510 words, keeping 209903 word types\n",
      "2020-12-07 23:02:15,040 : INFO : PROGRESS: at sentence #260000, processed 3375355 words, keeping 215955 word types\n",
      "2020-12-07 23:02:15,074 : INFO : PROGRESS: at sentence #270000, processed 3505345 words, keeping 221886 word types\n",
      "2020-12-07 23:02:15,109 : INFO : PROGRESS: at sentence #280000, processed 3635315 words, keeping 227881 word types\n",
      "2020-12-07 23:02:15,141 : INFO : PROGRESS: at sentence #290000, processed 3765538 words, keeping 233794 word types\n",
      "2020-12-07 23:02:15,176 : INFO : PROGRESS: at sentence #300000, processed 3894944 words, keeping 239664 word types\n",
      "2020-12-07 23:02:15,211 : INFO : PROGRESS: at sentence #310000, processed 4024807 words, keeping 245372 word types\n",
      "2020-12-07 23:02:15,245 : INFO : PROGRESS: at sentence #320000, processed 4155183 words, keeping 251160 word types\n",
      "2020-12-07 23:02:15,278 : INFO : PROGRESS: at sentence #330000, processed 4285073 words, keeping 256907 word types\n",
      "2020-12-07 23:02:15,313 : INFO : PROGRESS: at sentence #340000, processed 4415281 words, keeping 262536 word types\n",
      "2020-12-07 23:02:15,348 : INFO : PROGRESS: at sentence #350000, processed 4545301 words, keeping 268131 word types\n",
      "2020-12-07 23:02:15,384 : INFO : PROGRESS: at sentence #360000, processed 4675351 words, keeping 273572 word types\n",
      "2020-12-07 23:02:15,419 : INFO : PROGRESS: at sentence #370000, processed 4805551 words, keeping 278961 word types\n",
      "2020-12-07 23:02:15,454 : INFO : PROGRESS: at sentence #380000, processed 4935570 words, keeping 284340 word types\n",
      "2020-12-07 23:02:15,490 : INFO : PROGRESS: at sentence #390000, processed 5065368 words, keeping 289788 word types\n",
      "2020-12-07 23:02:15,527 : INFO : PROGRESS: at sentence #400000, processed 5195698 words, keeping 295151 word types\n",
      "2020-12-07 23:02:15,563 : INFO : PROGRESS: at sentence #410000, processed 5325152 words, keeping 300398 word types\n",
      "2020-12-07 23:02:15,598 : INFO : PROGRESS: at sentence #420000, processed 5455380 words, keeping 305785 word types\n",
      "2020-12-07 23:02:15,633 : INFO : PROGRESS: at sentence #430000, processed 5585395 words, keeping 311118 word types\n",
      "2020-12-07 23:02:15,669 : INFO : PROGRESS: at sentence #440000, processed 5715330 words, keeping 316317 word types\n",
      "2020-12-07 23:02:15,705 : INFO : PROGRESS: at sentence #450000, processed 5846093 words, keeping 321390 word types\n",
      "2020-12-07 23:02:15,741 : INFO : PROGRESS: at sentence #460000, processed 5976106 words, keeping 326549 word types\n",
      "2020-12-07 23:02:15,776 : INFO : PROGRESS: at sentence #470000, processed 6107584 words, keeping 331739 word types\n",
      "2020-12-07 23:02:15,810 : INFO : PROGRESS: at sentence #480000, processed 6237269 words, keeping 336780 word types\n",
      "2020-12-07 23:02:15,845 : INFO : PROGRESS: at sentence #490000, processed 6366527 words, keeping 341942 word types\n",
      "2020-12-07 23:02:15,881 : INFO : PROGRESS: at sentence #500000, processed 6496378 words, keeping 347009 word types\n",
      "2020-12-07 23:02:15,934 : INFO : PROGRESS: at sentence #510000, processed 6626413 words, keeping 352061 word types\n",
      "2020-12-07 23:02:15,967 : INFO : PROGRESS: at sentence #520000, processed 6756943 words, keeping 357060 word types\n",
      "2020-12-07 23:02:16,000 : INFO : PROGRESS: at sentence #530000, processed 6887521 words, keeping 362062 word types\n",
      "2020-12-07 23:02:16,035 : INFO : PROGRESS: at sentence #540000, processed 7017293 words, keeping 366949 word types\n",
      "2020-12-07 23:02:16,069 : INFO : PROGRESS: at sentence #550000, processed 7146364 words, keeping 371708 word types\n",
      "2020-12-07 23:02:16,106 : INFO : PROGRESS: at sentence #560000, processed 7276953 words, keeping 376555 word types\n",
      "2020-12-07 23:02:16,144 : INFO : PROGRESS: at sentence #570000, processed 7406526 words, keeping 381334 word types\n",
      "2020-12-07 23:02:16,181 : INFO : PROGRESS: at sentence #580000, processed 7536874 words, keeping 385991 word types\n",
      "2020-12-07 23:02:16,217 : INFO : PROGRESS: at sentence #590000, processed 7667074 words, keeping 390776 word types\n",
      "2020-12-07 23:02:16,255 : INFO : PROGRESS: at sentence #600000, processed 7797182 words, keeping 395435 word types\n",
      "2020-12-07 23:02:16,292 : INFO : PROGRESS: at sentence #610000, processed 7927338 words, keeping 400210 word types\n",
      "2020-12-07 23:02:16,328 : INFO : PROGRESS: at sentence #620000, processed 8057696 words, keeping 404844 word types\n",
      "2020-12-07 23:02:16,364 : INFO : PROGRESS: at sentence #630000, processed 8187173 words, keeping 409563 word types\n",
      "2020-12-07 23:02:16,400 : INFO : PROGRESS: at sentence #640000, processed 8317561 words, keeping 414204 word types\n",
      "2020-12-07 23:02:16,438 : INFO : PROGRESS: at sentence #650000, processed 8448465 words, keeping 418912 word types\n",
      "2020-12-07 23:02:16,475 : INFO : PROGRESS: at sentence #660000, processed 8578367 words, keeping 423379 word types\n",
      "2020-12-07 23:02:16,512 : INFO : PROGRESS: at sentence #670000, processed 8708621 words, keeping 427766 word types\n",
      "2020-12-07 23:02:16,546 : INFO : PROGRESS: at sentence #680000, processed 8837448 words, keeping 432401 word types\n",
      "2020-12-07 23:02:16,582 : INFO : PROGRESS: at sentence #690000, processed 8968548 words, keeping 436847 word types\n",
      "2020-12-07 23:02:16,619 : INFO : PROGRESS: at sentence #700000, processed 9099706 words, keeping 441336 word types\n"
     ]
    },
    {
     "name": "stderr",
     "output_type": "stream",
     "text": [
      "2020-12-07 23:02:16,655 : INFO : PROGRESS: at sentence #710000, processed 9230248 words, keeping 445791 word types\n",
      "2020-12-07 23:02:16,690 : INFO : PROGRESS: at sentence #720000, processed 9360058 words, keeping 450206 word types\n",
      "2020-12-07 23:02:16,726 : INFO : PROGRESS: at sentence #730000, processed 9489788 words, keeping 454651 word types\n",
      "2020-12-07 23:02:16,761 : INFO : PROGRESS: at sentence #740000, processed 9619268 words, keeping 458961 word types\n",
      "2020-12-07 23:02:16,797 : INFO : PROGRESS: at sentence #750000, processed 9749071 words, keeping 463335 word types\n",
      "2020-12-07 23:02:16,835 : INFO : PROGRESS: at sentence #760000, processed 9878686 words, keeping 467750 word types\n",
      "2020-12-07 23:02:16,874 : INFO : PROGRESS: at sentence #770000, processed 10009019 words, keeping 472202 word types\n",
      "2020-12-07 23:02:16,912 : INFO : PROGRESS: at sentence #780000, processed 10137015 words, keeping 476500 word types\n",
      "2020-12-07 23:02:16,949 : INFO : PROGRESS: at sentence #790000, processed 10268093 words, keeping 480914 word types\n",
      "2020-12-07 23:02:16,987 : INFO : PROGRESS: at sentence #800000, processed 10398590 words, keeping 485275 word types\n",
      "2020-12-07 23:02:17,023 : INFO : PROGRESS: at sentence #810000, processed 10529112 words, keeping 489389 word types\n",
      "2020-12-07 23:02:17,062 : INFO : PROGRESS: at sentence #820000, processed 10658905 words, keeping 493665 word types\n",
      "2020-12-07 23:02:17,098 : INFO : PROGRESS: at sentence #830000, processed 10788153 words, keeping 497987 word types\n",
      "2020-12-07 23:02:17,134 : INFO : PROGRESS: at sentence #840000, processed 10917320 words, keeping 502142 word types\n",
      "2020-12-07 23:02:17,171 : INFO : PROGRESS: at sentence #850000, processed 11047246 words, keeping 506385 word types\n",
      "2020-12-07 23:02:17,208 : INFO : PROGRESS: at sentence #860000, processed 11176798 words, keeping 510528 word types\n",
      "2020-12-07 23:02:17,244 : INFO : PROGRESS: at sentence #870000, processed 11306768 words, keeping 514812 word types\n",
      "2020-12-07 23:02:17,282 : INFO : PROGRESS: at sentence #880000, processed 11437518 words, keeping 518915 word types\n",
      "2020-12-07 23:02:17,317 : INFO : PROGRESS: at sentence #890000, processed 11567217 words, keeping 523096 word types\n",
      "2020-12-07 23:02:17,354 : INFO : PROGRESS: at sentence #900000, processed 11696352 words, keeping 527318 word types\n",
      "2020-12-07 23:02:17,390 : INFO : PROGRESS: at sentence #910000, processed 11826537 words, keeping 531428 word types\n",
      "2020-12-07 23:02:17,428 : INFO : PROGRESS: at sentence #920000, processed 11956891 words, keeping 535491 word types\n",
      "2020-12-07 23:02:17,466 : INFO : PROGRESS: at sentence #930000, processed 12087618 words, keeping 539667 word types\n",
      "2020-12-07 23:02:17,503 : INFO : PROGRESS: at sentence #940000, processed 12216473 words, keeping 543705 word types\n",
      "2020-12-07 23:02:17,539 : INFO : PROGRESS: at sentence #950000, processed 12346932 words, keeping 547761 word types\n",
      "2020-12-07 23:02:17,577 : INFO : PROGRESS: at sentence #960000, processed 12476105 words, keeping 551723 word types\n",
      "2020-12-07 23:02:17,613 : INFO : PROGRESS: at sentence #970000, processed 12606004 words, keeping 555714 word types\n",
      "2020-12-07 23:02:17,648 : INFO : PROGRESS: at sentence #980000, processed 12734161 words, keeping 559888 word types\n",
      "2020-12-07 23:02:17,687 : INFO : PROGRESS: at sentence #990000, processed 12863408 words, keeping 563780 word types\n",
      "2020-12-07 23:02:17,724 : INFO : PROGRESS: at sentence #1000000, processed 12992539 words, keeping 567734 word types\n",
      "2020-12-07 23:02:17,763 : INFO : PROGRESS: at sentence #1010000, processed 13121556 words, keeping 571689 word types\n",
      "2020-12-07 23:02:17,798 : INFO : PROGRESS: at sentence #1020000, processed 13251409 words, keeping 575671 word types\n",
      "2020-12-07 23:02:17,832 : INFO : PROGRESS: at sentence #1030000, processed 13380242 words, keeping 579568 word types\n",
      "2020-12-07 23:02:17,868 : INFO : PROGRESS: at sentence #1040000, processed 13509757 words, keeping 583419 word types\n",
      "2020-12-07 23:02:17,903 : INFO : PROGRESS: at sentence #1050000, processed 13638955 words, keeping 587334 word types\n",
      "2020-12-07 23:02:17,941 : INFO : PROGRESS: at sentence #1060000, processed 13770179 words, keeping 591191 word types\n",
      "2020-12-07 23:02:17,975 : INFO : PROGRESS: at sentence #1070000, processed 13898813 words, keeping 594962 word types\n",
      "2020-12-07 23:02:18,012 : INFO : PROGRESS: at sentence #1080000, processed 14029345 words, keeping 598867 word types\n",
      "2020-12-07 23:02:18,045 : INFO : PROGRESS: at sentence #1090000, processed 14158843 words, keeping 602866 word types\n",
      "2020-12-07 23:02:18,079 : INFO : PROGRESS: at sentence #1100000, processed 14289796 words, keeping 606852 word types\n",
      "2020-12-07 23:02:18,113 : INFO : PROGRESS: at sentence #1110000, processed 14419852 words, keeping 610697 word types\n",
      "2020-12-07 23:02:18,147 : INFO : PROGRESS: at sentence #1120000, processed 14548686 words, keeping 614537 word types\n",
      "2020-12-07 23:02:18,183 : INFO : PROGRESS: at sentence #1130000, processed 14678610 words, keeping 618432 word types\n",
      "2020-12-07 23:02:18,218 : INFO : PROGRESS: at sentence #1140000, processed 14808892 words, keeping 622274 word types\n",
      "2020-12-07 23:02:18,253 : INFO : PROGRESS: at sentence #1150000, processed 14938764 words, keeping 626072 word types\n",
      "2020-12-07 23:02:18,289 : INFO : PROGRESS: at sentence #1160000, processed 15067773 words, keeping 629884 word types\n",
      "2020-12-07 23:02:18,323 : INFO : PROGRESS: at sentence #1170000, processed 15197103 words, keeping 633602 word types\n",
      "2020-12-07 23:02:18,359 : INFO : PROGRESS: at sentence #1180000, processed 15327818 words, keeping 637338 word types\n",
      "2020-12-07 23:02:18,393 : INFO : PROGRESS: at sentence #1190000, processed 15456454 words, keeping 641039 word types\n",
      "2020-12-07 23:02:18,429 : INFO : PROGRESS: at sentence #1200000, processed 15585315 words, keeping 644734 word types\n",
      "2020-12-07 23:02:18,464 : INFO : PROGRESS: at sentence #1210000, processed 15714501 words, keeping 648425 word types\n",
      "2020-12-07 23:02:18,499 : INFO : PROGRESS: at sentence #1220000, processed 15843853 words, keeping 652166 word types\n",
      "2020-12-07 23:02:18,535 : INFO : PROGRESS: at sentence #1230000, processed 15973418 words, keeping 655923 word types\n",
      "2020-12-07 23:02:18,570 : INFO : PROGRESS: at sentence #1240000, processed 16103742 words, keeping 659576 word types\n",
      "2020-12-07 23:02:18,606 : INFO : PROGRESS: at sentence #1250000, processed 16234712 words, keeping 663275 word types\n",
      "2020-12-07 23:02:18,643 : INFO : PROGRESS: at sentence #1260000, processed 16365423 words, keeping 667011 word types\n",
      "2020-12-07 23:02:18,679 : INFO : PROGRESS: at sentence #1270000, processed 16496103 words, keeping 670544 word types\n",
      "2020-12-07 23:02:18,715 : INFO : collected 674134 word types from a corpus of 16625290 raw words and 1280000 sentences\n",
      "2020-12-07 23:02:18,715 : INFO : Loading a fresh vocabulary\n",
      "2020-12-07 23:02:19,036 : INFO : effective_min_count=10 retains 38161 unique words (5% of original 674134, drops 635973)\n",
      "2020-12-07 23:02:19,037 : INFO : effective_min_count=10 leaves 15593041 word corpus (93% of original 16625290, drops 1032249)\n",
      "2020-12-07 23:02:19,142 : INFO : deleting the raw counts dictionary of 674134 items\n",
      "2020-12-07 23:02:19,156 : INFO : sample=0.001 downsamples 57 most-common words\n",
      "2020-12-07 23:02:19,157 : INFO : downsampling leaves estimated 12208066 word corpus (78.3% of prior 15593041)\n",
      "2020-12-07 23:02:19,260 : INFO : estimated required memory for 38161 words and 300 dimensions: 110666900 bytes\n",
      "2020-12-07 23:02:19,261 : INFO : resetting layer weights\n"
     ]
    }
   ],
   "source": [
    "# build vovcab of the model\n",
    "w2v_model.build_vocab(documents)"
   ]
  },
  {
   "cell_type": "code",
   "execution_count": 34,
   "metadata": {
    "_uuid": "68c3e4a5ba07cac3dee67f78ecdd1404c7f83f14",
    "scrolled": false
   },
   "outputs": [
    {
     "name": "stderr",
     "output_type": "stream",
     "text": [
      "2020-12-07 23:07:00,715 : INFO : training model with 8 workers on 38161 vocabulary and 300 features, using sg=0 hs=0 sample=0.001 negative=5 window=7\n",
      "2020-12-07 23:07:01,737 : INFO : EPOCH 1 - PROGRESS: at 9.39% examples, 1136091 words/s, in_qsize 14, out_qsize 1\n",
      "2020-12-07 23:07:02,770 : INFO : EPOCH 1 - PROGRESS: at 19.54% examples, 1167986 words/s, in_qsize 15, out_qsize 2\n",
      "2020-12-07 23:07:03,773 : INFO : EPOCH 1 - PROGRESS: at 29.81% examples, 1195537 words/s, in_qsize 15, out_qsize 0\n",
      "2020-12-07 23:07:04,783 : INFO : EPOCH 1 - PROGRESS: at 39.83% examples, 1199988 words/s, in_qsize 13, out_qsize 2\n",
      "2020-12-07 23:07:05,791 : INFO : EPOCH 1 - PROGRESS: at 49.97% examples, 1205880 words/s, in_qsize 15, out_qsize 0\n",
      "2020-12-07 23:07:06,792 : INFO : EPOCH 1 - PROGRESS: at 59.93% examples, 1207806 words/s, in_qsize 15, out_qsize 0\n",
      "2020-12-07 23:07:07,807 : INFO : EPOCH 1 - PROGRESS: at 70.03% examples, 1208747 words/s, in_qsize 13, out_qsize 2\n",
      "2020-12-07 23:07:08,807 : INFO : EPOCH 1 - PROGRESS: at 80.10% examples, 1210825 words/s, in_qsize 14, out_qsize 1\n",
      "2020-12-07 23:07:09,813 : INFO : EPOCH 1 - PROGRESS: at 90.14% examples, 1211534 words/s, in_qsize 16, out_qsize 2\n",
      "2020-12-07 23:07:10,733 : INFO : worker thread finished; awaiting finish of 7 more threads\n",
      "2020-12-07 23:07:10,749 : INFO : worker thread finished; awaiting finish of 6 more threads\n",
      "2020-12-07 23:07:10,753 : INFO : worker thread finished; awaiting finish of 5 more threads\n",
      "2020-12-07 23:07:10,756 : INFO : worker thread finished; awaiting finish of 4 more threads\n",
      "2020-12-07 23:07:10,758 : INFO : worker thread finished; awaiting finish of 3 more threads\n",
      "2020-12-07 23:07:10,772 : INFO : worker thread finished; awaiting finish of 2 more threads\n",
      "2020-12-07 23:07:10,773 : INFO : worker thread finished; awaiting finish of 1 more threads\n",
      "2020-12-07 23:07:10,774 : INFO : worker thread finished; awaiting finish of 0 more threads\n",
      "2020-12-07 23:07:10,774 : INFO : EPOCH - 1 : training on 16625290 raw words (12207856 effective words) took 10.0s, 1215262 effective words/s\n",
      "2020-12-07 23:07:11,811 : INFO : EPOCH 2 - PROGRESS: at 9.81% examples, 1178619 words/s, in_qsize 16, out_qsize 2\n",
      "2020-12-07 23:07:12,823 : INFO : EPOCH 2 - PROGRESS: at 20.02% examples, 1205203 words/s, in_qsize 12, out_qsize 3\n",
      "2020-12-07 23:07:13,843 : INFO : EPOCH 2 - PROGRESS: at 30.11% examples, 1206173 words/s, in_qsize 12, out_qsize 3\n",
      "2020-12-07 23:07:14,855 : INFO : EPOCH 2 - PROGRESS: at 38.81% examples, 1167785 words/s, in_qsize 15, out_qsize 0\n",
      "2020-12-07 23:07:15,855 : INFO : EPOCH 2 - PROGRESS: at 46.31% examples, 1118296 words/s, in_qsize 15, out_qsize 0\n",
      "2020-12-07 23:07:16,869 : INFO : EPOCH 2 - PROGRESS: at 54.77% examples, 1101959 words/s, in_qsize 14, out_qsize 1\n",
      "2020-12-07 23:07:17,869 : INFO : EPOCH 2 - PROGRESS: at 64.38% examples, 1112151 words/s, in_qsize 14, out_qsize 1\n",
      "2020-12-07 23:07:18,895 : INFO : EPOCH 2 - PROGRESS: at 73.82% examples, 1113530 words/s, in_qsize 15, out_qsize 0\n",
      "2020-12-07 23:07:19,900 : INFO : EPOCH 2 - PROGRESS: at 81.43% examples, 1092243 words/s, in_qsize 14, out_qsize 1\n",
      "2020-12-07 23:07:20,908 : INFO : EPOCH 2 - PROGRESS: at 89.59% examples, 1081940 words/s, in_qsize 14, out_qsize 1\n",
      "2020-12-07 23:07:21,927 : INFO : EPOCH 2 - PROGRESS: at 98.86% examples, 1084330 words/s, in_qsize 14, out_qsize 1\n",
      "2020-12-07 23:07:22,017 : INFO : worker thread finished; awaiting finish of 7 more threads\n",
      "2020-12-07 23:07:22,035 : INFO : worker thread finished; awaiting finish of 6 more threads\n",
      "2020-12-07 23:07:22,037 : INFO : worker thread finished; awaiting finish of 5 more threads\n",
      "2020-12-07 23:07:22,038 : INFO : worker thread finished; awaiting finish of 4 more threads\n",
      "2020-12-07 23:07:22,042 : INFO : worker thread finished; awaiting finish of 3 more threads\n",
      "2020-12-07 23:07:22,053 : INFO : worker thread finished; awaiting finish of 2 more threads\n",
      "2020-12-07 23:07:22,055 : INFO : worker thread finished; awaiting finish of 1 more threads\n",
      "2020-12-07 23:07:22,056 : INFO : worker thread finished; awaiting finish of 0 more threads\n",
      "2020-12-07 23:07:22,056 : INFO : EPOCH - 2 : training on 16625290 raw words (12208333 effective words) took 11.3s, 1084190 effective words/s\n",
      "2020-12-07 23:07:23,083 : INFO : EPOCH 3 - PROGRESS: at 7.11% examples, 853541 words/s, in_qsize 14, out_qsize 1\n",
      "2020-12-07 23:07:24,092 : INFO : EPOCH 3 - PROGRESS: at 14.92% examples, 899239 words/s, in_qsize 15, out_qsize 0\n",
      "2020-12-07 23:07:25,104 : INFO : EPOCH 3 - PROGRESS: at 24.53% examples, 985951 words/s, in_qsize 12, out_qsize 3\n",
      "2020-12-07 23:07:26,126 : INFO : EPOCH 3 - PROGRESS: at 34.13% examples, 1027202 words/s, in_qsize 16, out_qsize 1\n",
      "2020-12-07 23:07:27,134 : INFO : EPOCH 3 - PROGRESS: at 43.01% examples, 1037166 words/s, in_qsize 13, out_qsize 2\n",
      "2020-12-07 23:07:28,155 : INFO : EPOCH 3 - PROGRESS: at 52.92% examples, 1062119 words/s, in_qsize 15, out_qsize 0\n",
      "2020-12-07 23:07:29,174 : INFO : EPOCH 3 - PROGRESS: at 62.94% examples, 1082298 words/s, in_qsize 13, out_qsize 2\n",
      "2020-12-07 23:07:30,176 : INFO : EPOCH 3 - PROGRESS: at 73.03% examples, 1100494 words/s, in_qsize 14, out_qsize 1\n",
      "2020-12-07 23:07:31,186 : INFO : EPOCH 3 - PROGRESS: at 80.52% examples, 1078496 words/s, in_qsize 15, out_qsize 0\n",
      "2020-12-07 23:07:32,200 : INFO : EPOCH 3 - PROGRESS: at 88.82% examples, 1070436 words/s, in_qsize 12, out_qsize 3\n",
      "2020-12-07 23:07:33,215 : INFO : EPOCH 3 - PROGRESS: at 98.74% examples, 1081540 words/s, in_qsize 15, out_qsize 0\n",
      "2020-12-07 23:07:33,302 : INFO : worker thread finished; awaiting finish of 7 more threads\n",
      "2020-12-07 23:07:33,304 : INFO : worker thread finished; awaiting finish of 6 more threads\n",
      "2020-12-07 23:07:33,305 : INFO : worker thread finished; awaiting finish of 5 more threads\n",
      "2020-12-07 23:07:33,315 : INFO : worker thread finished; awaiting finish of 4 more threads\n",
      "2020-12-07 23:07:33,316 : INFO : worker thread finished; awaiting finish of 3 more threads\n",
      "2020-12-07 23:07:33,318 : INFO : worker thread finished; awaiting finish of 2 more threads\n",
      "2020-12-07 23:07:33,319 : INFO : worker thread finished; awaiting finish of 1 more threads\n",
      "2020-12-07 23:07:33,323 : INFO : worker thread finished; awaiting finish of 0 more threads\n",
      "2020-12-07 23:07:33,324 : INFO : EPOCH - 3 : training on 16625290 raw words (12209030 effective words) took 11.3s, 1084715 effective words/s\n",
      "2020-12-07 23:07:34,343 : INFO : EPOCH 4 - PROGRESS: at 7.53% examples, 910324 words/s, in_qsize 15, out_qsize 1\n",
      "2020-12-07 23:07:35,346 : INFO : EPOCH 4 - PROGRESS: at 14.80% examples, 897730 words/s, in_qsize 15, out_qsize 0\n",
      "2020-12-07 23:07:36,360 : INFO : EPOCH 4 - PROGRESS: at 21.88% examples, 882657 words/s, in_qsize 14, out_qsize 1\n",
      "2020-12-07 23:07:37,382 : INFO : EPOCH 4 - PROGRESS: at 29.87% examples, 901008 words/s, in_qsize 14, out_qsize 1\n",
      "2020-12-07 23:07:38,387 : INFO : EPOCH 4 - PROGRESS: at 38.57% examples, 932331 words/s, in_qsize 14, out_qsize 1\n",
      "2020-12-07 23:07:39,388 : INFO : EPOCH 4 - PROGRESS: at 46.91% examples, 946810 words/s, in_qsize 16, out_qsize 2\n",
      "2020-12-07 23:07:40,399 : INFO : EPOCH 4 - PROGRESS: at 55.06% examples, 952596 words/s, in_qsize 15, out_qsize 0\n",
      "2020-12-07 23:07:41,402 : INFO : EPOCH 4 - PROGRESS: at 63.71% examples, 965133 words/s, in_qsize 15, out_qsize 0\n",
      "2020-12-07 23:07:42,414 : INFO : EPOCH 4 - PROGRESS: at 73.09% examples, 983529 words/s, in_qsize 13, out_qsize 2\n",
      "2020-12-07 23:07:43,424 : INFO : EPOCH 4 - PROGRESS: at 82.99% examples, 1004475 words/s, in_qsize 13, out_qsize 2\n",
      "2020-12-07 23:07:44,429 : INFO : EPOCH 4 - PROGRESS: at 93.09% examples, 1024457 words/s, in_qsize 13, out_qsize 2\n",
      "2020-12-07 23:07:45,069 : INFO : worker thread finished; awaiting finish of 7 more threads\n",
      "2020-12-07 23:07:45,073 : INFO : worker thread finished; awaiting finish of 6 more threads\n",
      "2020-12-07 23:07:45,076 : INFO : worker thread finished; awaiting finish of 5 more threads\n",
      "2020-12-07 23:07:45,077 : INFO : worker thread finished; awaiting finish of 4 more threads\n",
      "2020-12-07 23:07:45,094 : INFO : worker thread finished; awaiting finish of 3 more threads\n",
      "2020-12-07 23:07:45,095 : INFO : worker thread finished; awaiting finish of 2 more threads\n",
      "2020-12-07 23:07:45,097 : INFO : worker thread finished; awaiting finish of 1 more threads\n"
     ]
    },
    {
     "name": "stderr",
     "output_type": "stream",
     "text": [
      "2020-12-07 23:07:45,098 : INFO : worker thread finished; awaiting finish of 0 more threads\n",
      "2020-12-07 23:07:45,098 : INFO : EPOCH - 4 : training on 16625290 raw words (12207967 effective words) took 11.8s, 1037837 effective words/s\n",
      "2020-12-07 23:07:46,117 : INFO : EPOCH 5 - PROGRESS: at 9.75% examples, 1182867 words/s, in_qsize 13, out_qsize 2\n",
      "2020-12-07 23:07:47,118 : INFO : EPOCH 5 - PROGRESS: at 19.84% examples, 1206696 words/s, in_qsize 14, out_qsize 1\n",
      "2020-12-07 23:07:48,122 : INFO : EPOCH 5 - PROGRESS: at 29.81% examples, 1208615 words/s, in_qsize 15, out_qsize 0\n",
      "2020-12-07 23:07:49,127 : INFO : EPOCH 5 - PROGRESS: at 39.83% examples, 1211472 words/s, in_qsize 16, out_qsize 1\n",
      "2020-12-07 23:07:50,134 : INFO : EPOCH 5 - PROGRESS: at 49.91% examples, 1213857 words/s, in_qsize 12, out_qsize 3\n",
      "2020-12-07 23:07:51,148 : INFO : EPOCH 5 - PROGRESS: at 60.05% examples, 1215662 words/s, in_qsize 15, out_qsize 0\n",
      "2020-12-07 23:07:52,164 : INFO : EPOCH 5 - PROGRESS: at 70.27% examples, 1217316 words/s, in_qsize 15, out_qsize 0\n",
      "2020-12-07 23:07:53,174 : INFO : EPOCH 5 - PROGRESS: at 80.10% examples, 1213115 words/s, in_qsize 14, out_qsize 1\n",
      "2020-12-07 23:07:54,179 : INFO : EPOCH 5 - PROGRESS: at 89.84% examples, 1209712 words/s, in_qsize 14, out_qsize 1\n",
      "2020-12-07 23:07:55,180 : INFO : EPOCH 5 - PROGRESS: at 99.52% examples, 1206705 words/s, in_qsize 6, out_qsize 4\n",
      "2020-12-07 23:07:55,183 : INFO : worker thread finished; awaiting finish of 7 more threads\n",
      "2020-12-07 23:07:55,191 : INFO : worker thread finished; awaiting finish of 6 more threads\n",
      "2020-12-07 23:07:55,192 : INFO : worker thread finished; awaiting finish of 5 more threads\n",
      "2020-12-07 23:07:55,199 : INFO : worker thread finished; awaiting finish of 4 more threads\n",
      "2020-12-07 23:07:55,206 : INFO : worker thread finished; awaiting finish of 3 more threads\n",
      "2020-12-07 23:07:55,207 : INFO : worker thread finished; awaiting finish of 2 more threads\n",
      "2020-12-07 23:07:55,208 : INFO : worker thread finished; awaiting finish of 1 more threads\n",
      "2020-12-07 23:07:55,211 : INFO : worker thread finished; awaiting finish of 0 more threads\n",
      "2020-12-07 23:07:55,211 : INFO : EPOCH - 5 : training on 16625290 raw words (12207840 effective words) took 10.1s, 1208761 effective words/s\n",
      "2020-12-07 23:07:56,233 : INFO : EPOCH 6 - PROGRESS: at 8.19% examples, 986555 words/s, in_qsize 15, out_qsize 0\n",
      "2020-12-07 23:07:57,235 : INFO : EPOCH 6 - PROGRESS: at 17.26% examples, 1046068 words/s, in_qsize 15, out_qsize 0\n",
      "2020-12-07 23:07:58,257 : INFO : EPOCH 6 - PROGRESS: at 25.73% examples, 1034424 words/s, in_qsize 14, out_qsize 1\n",
      "2020-12-07 23:07:59,261 : INFO : EPOCH 6 - PROGRESS: at 33.41% examples, 1010210 words/s, in_qsize 15, out_qsize 0\n",
      "2020-12-07 23:08:00,266 : INFO : EPOCH 6 - PROGRESS: at 41.45% examples, 1003679 words/s, in_qsize 14, out_qsize 1\n",
      "2020-12-07 23:08:01,283 : INFO : EPOCH 6 - PROGRESS: at 49.26% examples, 992683 words/s, in_qsize 15, out_qsize 0\n",
      "2020-12-07 23:08:02,292 : INFO : EPOCH 6 - PROGRESS: at 56.81% examples, 981835 words/s, in_qsize 14, out_qsize 1\n",
      "2020-12-07 23:08:03,293 : INFO : EPOCH 6 - PROGRESS: at 65.71% examples, 994429 words/s, in_qsize 15, out_qsize 0\n",
      "2020-12-07 23:08:04,318 : INFO : EPOCH 6 - PROGRESS: at 75.38% examples, 1012362 words/s, in_qsize 15, out_qsize 3\n",
      "2020-12-07 23:08:05,338 : INFO : EPOCH 6 - PROGRESS: at 85.33% examples, 1029893 words/s, in_qsize 13, out_qsize 2\n",
      "2020-12-07 23:08:06,349 : INFO : EPOCH 6 - PROGRESS: at 94.73% examples, 1039011 words/s, in_qsize 15, out_qsize 0\n",
      "2020-12-07 23:08:06,849 : INFO : worker thread finished; awaiting finish of 7 more threads\n",
      "2020-12-07 23:08:06,869 : INFO : worker thread finished; awaiting finish of 6 more threads\n",
      "2020-12-07 23:08:06,871 : INFO : worker thread finished; awaiting finish of 5 more threads\n",
      "2020-12-07 23:08:06,872 : INFO : worker thread finished; awaiting finish of 4 more threads\n",
      "2020-12-07 23:08:06,874 : INFO : worker thread finished; awaiting finish of 3 more threads\n",
      "2020-12-07 23:08:06,889 : INFO : worker thread finished; awaiting finish of 2 more threads\n",
      "2020-12-07 23:08:06,890 : INFO : worker thread finished; awaiting finish of 1 more threads\n",
      "2020-12-07 23:08:06,891 : INFO : worker thread finished; awaiting finish of 0 more threads\n",
      "2020-12-07 23:08:06,891 : INFO : EPOCH - 6 : training on 16625290 raw words (12206058 effective words) took 11.7s, 1046028 effective words/s\n",
      "2020-12-07 23:08:07,923 : INFO : EPOCH 7 - PROGRESS: at 9.45% examples, 1136814 words/s, in_qsize 14, out_qsize 1\n",
      "2020-12-07 23:08:08,942 : INFO : EPOCH 7 - PROGRESS: at 19.18% examples, 1151303 words/s, in_qsize 15, out_qsize 0\n",
      "2020-12-07 23:08:09,945 : INFO : EPOCH 7 - PROGRESS: at 28.37% examples, 1140861 words/s, in_qsize 14, out_qsize 1\n",
      "2020-12-07 23:08:10,955 : INFO : EPOCH 7 - PROGRESS: at 38.09% examples, 1150006 words/s, in_qsize 15, out_qsize 0\n",
      "2020-12-07 23:08:11,960 : INFO : EPOCH 7 - PROGRESS: at 47.52% examples, 1149575 words/s, in_qsize 12, out_qsize 3\n",
      "2020-12-07 23:08:12,962 : INFO : EPOCH 7 - PROGRESS: at 56.87% examples, 1148441 words/s, in_qsize 13, out_qsize 2\n",
      "2020-12-07 23:08:13,969 : INFO : EPOCH 7 - PROGRESS: at 66.49% examples, 1150772 words/s, in_qsize 15, out_qsize 0\n",
      "2020-12-07 23:08:14,969 : INFO : EPOCH 7 - PROGRESS: at 75.93% examples, 1151048 words/s, in_qsize 15, out_qsize 0\n",
      "2020-12-07 23:08:15,972 : INFO : EPOCH 7 - PROGRESS: at 85.57% examples, 1153166 words/s, in_qsize 15, out_qsize 0\n",
      "2020-12-07 23:08:16,976 : INFO : EPOCH 7 - PROGRESS: at 95.09% examples, 1153222 words/s, in_qsize 14, out_qsize 1\n",
      "2020-12-07 23:08:17,441 : INFO : worker thread finished; awaiting finish of 7 more threads\n",
      "2020-12-07 23:08:17,449 : INFO : worker thread finished; awaiting finish of 6 more threads\n",
      "2020-12-07 23:08:17,450 : INFO : worker thread finished; awaiting finish of 5 more threads\n",
      "2020-12-07 23:08:17,451 : INFO : worker thread finished; awaiting finish of 4 more threads\n",
      "2020-12-07 23:08:17,455 : INFO : worker thread finished; awaiting finish of 3 more threads\n",
      "2020-12-07 23:08:17,463 : INFO : worker thread finished; awaiting finish of 2 more threads\n",
      "2020-12-07 23:08:17,465 : INFO : worker thread finished; awaiting finish of 1 more threads\n",
      "2020-12-07 23:08:17,470 : INFO : worker thread finished; awaiting finish of 0 more threads\n",
      "2020-12-07 23:08:17,470 : INFO : EPOCH - 7 : training on 16625290 raw words (12209432 effective words) took 10.6s, 1156132 effective words/s\n",
      "2020-12-07 23:08:18,499 : INFO : EPOCH 8 - PROGRESS: at 9.75% examples, 1169401 words/s, in_qsize 15, out_qsize 0\n",
      "2020-12-07 23:08:19,503 : INFO : EPOCH 8 - PROGRESS: at 19.48% examples, 1176470 words/s, in_qsize 14, out_qsize 1\n",
      "2020-12-07 23:08:20,509 : INFO : EPOCH 8 - PROGRESS: at 29.15% examples, 1175872 words/s, in_qsize 14, out_qsize 1\n",
      "2020-12-07 23:08:21,516 : INFO : EPOCH 8 - PROGRESS: at 38.93% examples, 1179119 words/s, in_qsize 12, out_qsize 3\n",
      "2020-12-07 23:08:22,541 : INFO : EPOCH 8 - PROGRESS: at 48.77% examples, 1178119 words/s, in_qsize 13, out_qsize 2\n",
      "2020-12-07 23:08:23,556 : INFO : EPOCH 8 - PROGRESS: at 58.43% examples, 1175695 words/s, in_qsize 14, out_qsize 1\n",
      "2020-12-07 23:08:24,558 : INFO : EPOCH 8 - PROGRESS: at 67.81% examples, 1170988 words/s, in_qsize 15, out_qsize 0\n",
      "2020-12-07 23:08:25,567 : INFO : EPOCH 8 - PROGRESS: at 77.44% examples, 1170082 words/s, in_qsize 14, out_qsize 1\n",
      "2020-12-07 23:08:26,581 : INFO : EPOCH 8 - PROGRESS: at 86.83% examples, 1165418 words/s, in_qsize 15, out_qsize 0\n",
      "2020-12-07 23:08:27,592 : INFO : EPOCH 8 - PROGRESS: at 96.35% examples, 1163457 words/s, in_qsize 15, out_qsize 0\n",
      "2020-12-07 23:08:27,921 : INFO : worker thread finished; awaiting finish of 7 more threads\n",
      "2020-12-07 23:08:27,940 : INFO : worker thread finished; awaiting finish of 6 more threads\n",
      "2020-12-07 23:08:27,944 : INFO : worker thread finished; awaiting finish of 5 more threads\n",
      "2020-12-07 23:08:27,945 : INFO : worker thread finished; awaiting finish of 4 more threads\n",
      "2020-12-07 23:08:27,947 : INFO : worker thread finished; awaiting finish of 3 more threads\n",
      "2020-12-07 23:08:27,957 : INFO : worker thread finished; awaiting finish of 2 more threads\n",
      "2020-12-07 23:08:27,962 : INFO : worker thread finished; awaiting finish of 1 more threads\n",
      "2020-12-07 23:08:27,962 : INFO : worker thread finished; awaiting finish of 0 more threads\n"
     ]
    },
    {
     "name": "stderr",
     "output_type": "stream",
     "text": [
      "2020-12-07 23:08:27,963 : INFO : EPOCH - 8 : training on 16625290 raw words (12208305 effective words) took 10.5s, 1164886 effective words/s\n",
      "2020-12-07 23:08:28,977 : INFO : EPOCH 9 - PROGRESS: at 9.51% examples, 1157932 words/s, in_qsize 13, out_qsize 2\n",
      "2020-12-07 23:08:29,983 : INFO : EPOCH 9 - PROGRESS: at 18.28% examples, 1110891 words/s, in_qsize 15, out_qsize 0\n",
      "2020-12-07 23:08:30,988 : INFO : EPOCH 9 - PROGRESS: at 27.95% examples, 1132606 words/s, in_qsize 14, out_qsize 1\n",
      "2020-12-07 23:08:32,003 : INFO : EPOCH 9 - PROGRESS: at 37.07% examples, 1124187 words/s, in_qsize 15, out_qsize 0\n",
      "2020-12-07 23:08:33,005 : INFO : EPOCH 9 - PROGRESS: at 46.44% examples, 1127876 words/s, in_qsize 14, out_qsize 1\n",
      "2020-12-07 23:08:34,019 : INFO : EPOCH 9 - PROGRESS: at 56.08% examples, 1134037 words/s, in_qsize 13, out_qsize 2\n",
      "2020-12-07 23:08:35,019 : INFO : EPOCH 9 - PROGRESS: at 65.83% examples, 1141718 words/s, in_qsize 15, out_qsize 0\n",
      "2020-12-07 23:08:36,048 : INFO : EPOCH 9 - PROGRESS: at 73.64% examples, 1114368 words/s, in_qsize 13, out_qsize 2\n",
      "2020-12-07 23:08:37,061 : INFO : EPOCH 9 - PROGRESS: at 82.93% examples, 1114498 words/s, in_qsize 14, out_qsize 1\n",
      "2020-12-07 23:08:38,063 : INFO : EPOCH 9 - PROGRESS: at 91.35% examples, 1105620 words/s, in_qsize 15, out_qsize 0\n",
      "2020-12-07 23:08:39,065 : INFO : EPOCH 9 - PROGRESS: at 99.10% examples, 1091065 words/s, in_qsize 14, out_qsize 1\n",
      "2020-12-07 23:08:39,128 : INFO : worker thread finished; awaiting finish of 7 more threads\n",
      "2020-12-07 23:08:39,130 : INFO : worker thread finished; awaiting finish of 6 more threads\n",
      "2020-12-07 23:08:39,141 : INFO : worker thread finished; awaiting finish of 5 more threads\n",
      "2020-12-07 23:08:39,142 : INFO : worker thread finished; awaiting finish of 4 more threads\n",
      "2020-12-07 23:08:39,156 : INFO : worker thread finished; awaiting finish of 3 more threads\n",
      "2020-12-07 23:08:39,158 : INFO : worker thread finished; awaiting finish of 2 more threads\n",
      "2020-12-07 23:08:39,161 : INFO : worker thread finished; awaiting finish of 1 more threads\n",
      "2020-12-07 23:08:39,164 : INFO : worker thread finished; awaiting finish of 0 more threads\n",
      "2020-12-07 23:08:39,164 : INFO : EPOCH - 9 : training on 16625290 raw words (12208246 effective words) took 11.2s, 1091144 effective words/s\n",
      "2020-12-07 23:08:40,181 : INFO : EPOCH 10 - PROGRESS: at 9.33% examples, 1131915 words/s, in_qsize 14, out_qsize 1\n",
      "2020-12-07 23:08:41,196 : INFO : EPOCH 10 - PROGRESS: at 19.12% examples, 1154343 words/s, in_qsize 16, out_qsize 1\n",
      "2020-12-07 23:08:42,197 : INFO : EPOCH 10 - PROGRESS: at 26.45% examples, 1068544 words/s, in_qsize 15, out_qsize 0\n",
      "2020-12-07 23:08:43,198 : INFO : EPOCH 10 - PROGRESS: at 33.35% examples, 1012432 words/s, in_qsize 13, out_qsize 2\n",
      "2020-12-07 23:08:44,199 : INFO : EPOCH 10 - PROGRESS: at 41.57% examples, 1010935 words/s, in_qsize 14, out_qsize 1\n",
      "2020-12-07 23:08:45,204 : INFO : EPOCH 10 - PROGRESS: at 51.11% examples, 1036003 words/s, in_qsize 15, out_qsize 0\n",
      "2020-12-07 23:08:46,207 : INFO : EPOCH 10 - PROGRESS: at 60.96% examples, 1059442 words/s, in_qsize 12, out_qsize 3\n",
      "2020-12-07 23:08:47,225 : INFO : EPOCH 10 - PROGRESS: at 71.24% examples, 1081224 words/s, in_qsize 13, out_qsize 2\n",
      "2020-12-07 23:08:48,226 : INFO : EPOCH 10 - PROGRESS: at 81.12% examples, 1094604 words/s, in_qsize 14, out_qsize 1\n",
      "2020-12-07 23:08:49,240 : INFO : EPOCH 10 - PROGRESS: at 90.87% examples, 1102282 words/s, in_qsize 16, out_qsize 1\n",
      "2020-12-07 23:08:50,131 : INFO : worker thread finished; awaiting finish of 7 more threads\n",
      "2020-12-07 23:08:50,134 : INFO : worker thread finished; awaiting finish of 6 more threads\n",
      "2020-12-07 23:08:50,142 : INFO : worker thread finished; awaiting finish of 5 more threads\n",
      "2020-12-07 23:08:50,152 : INFO : worker thread finished; awaiting finish of 4 more threads\n",
      "2020-12-07 23:08:50,160 : INFO : worker thread finished; awaiting finish of 3 more threads\n",
      "2020-12-07 23:08:50,162 : INFO : worker thread finished; awaiting finish of 2 more threads\n",
      "2020-12-07 23:08:50,164 : INFO : worker thread finished; awaiting finish of 1 more threads\n",
      "2020-12-07 23:08:50,165 : INFO : worker thread finished; awaiting finish of 0 more threads\n",
      "2020-12-07 23:08:50,166 : INFO : EPOCH - 10 : training on 16625290 raw words (12209088 effective words) took 11.0s, 1110893 effective words/s\n",
      "2020-12-07 23:08:51,186 : INFO : EPOCH 11 - PROGRESS: at 9.45% examples, 1142838 words/s, in_qsize 14, out_qsize 1\n",
      "2020-12-07 23:08:52,188 : INFO : EPOCH 11 - PROGRESS: at 19.18% examples, 1164207 words/s, in_qsize 15, out_qsize 0\n",
      "2020-12-07 23:08:53,189 : INFO : EPOCH 11 - PROGRESS: at 28.55% examples, 1157206 words/s, in_qsize 12, out_qsize 3\n",
      "2020-12-07 23:08:54,203 : INFO : EPOCH 11 - PROGRESS: at 38.57% examples, 1170255 words/s, in_qsize 14, out_qsize 1\n",
      "2020-12-07 23:08:55,209 : INFO : EPOCH 11 - PROGRESS: at 48.41% examples, 1175599 words/s, in_qsize 15, out_qsize 0\n",
      "2020-12-07 23:08:56,209 : INFO : EPOCH 11 - PROGRESS: at 57.83% examples, 1171570 words/s, in_qsize 14, out_qsize 1\n",
      "2020-12-07 23:08:57,212 : INFO : EPOCH 11 - PROGRESS: at 67.75% examples, 1176674 words/s, in_qsize 12, out_qsize 3\n",
      "2020-12-07 23:08:58,216 : INFO : EPOCH 11 - PROGRESS: at 77.86% examples, 1183297 words/s, in_qsize 15, out_qsize 0\n",
      "2020-12-07 23:08:59,235 : INFO : EPOCH 11 - PROGRESS: at 88.04% examples, 1186882 words/s, in_qsize 14, out_qsize 1\n",
      "2020-12-07 23:09:00,245 : INFO : EPOCH 11 - PROGRESS: at 98.20% examples, 1190960 words/s, in_qsize 15, out_qsize 0\n",
      "2020-12-07 23:09:00,372 : INFO : worker thread finished; awaiting finish of 7 more threads\n",
      "2020-12-07 23:09:00,375 : INFO : worker thread finished; awaiting finish of 6 more threads\n",
      "2020-12-07 23:09:00,383 : INFO : worker thread finished; awaiting finish of 5 more threads\n",
      "2020-12-07 23:09:00,384 : INFO : worker thread finished; awaiting finish of 4 more threads\n",
      "2020-12-07 23:09:00,396 : INFO : worker thread finished; awaiting finish of 3 more threads\n",
      "2020-12-07 23:09:00,397 : INFO : worker thread finished; awaiting finish of 2 more threads\n",
      "2020-12-07 23:09:00,398 : INFO : worker thread finished; awaiting finish of 1 more threads\n",
      "2020-12-07 23:09:00,402 : INFO : worker thread finished; awaiting finish of 0 more threads\n",
      "2020-12-07 23:09:00,402 : INFO : EPOCH - 11 : training on 16625290 raw words (12208287 effective words) took 10.2s, 1194075 effective words/s\n",
      "2020-12-07 23:09:01,430 : INFO : EPOCH 12 - PROGRESS: at 9.93% examples, 1191187 words/s, in_qsize 15, out_qsize 0\n",
      "2020-12-07 23:09:02,434 : INFO : EPOCH 12 - PROGRESS: at 19.60% examples, 1183722 words/s, in_qsize 14, out_qsize 1\n",
      "2020-12-07 23:09:03,461 : INFO : EPOCH 12 - PROGRESS: at 28.61% examples, 1146174 words/s, in_qsize 13, out_qsize 2\n",
      "2020-12-07 23:09:04,479 : INFO : EPOCH 12 - PROGRESS: at 36.83% examples, 1106217 words/s, in_qsize 13, out_qsize 2\n",
      "2020-12-07 23:09:05,484 : INFO : EPOCH 12 - PROGRESS: at 46.68% examples, 1124460 words/s, in_qsize 15, out_qsize 0\n",
      "2020-12-07 23:09:06,486 : INFO : EPOCH 12 - PROGRESS: at 56.50% examples, 1137088 words/s, in_qsize 15, out_qsize 0\n",
      "2020-12-07 23:09:07,492 : INFO : EPOCH 12 - PROGRESS: at 65.46% examples, 1129820 words/s, in_qsize 15, out_qsize 0\n",
      "2020-12-07 23:09:08,496 : INFO : EPOCH 12 - PROGRESS: at 75.50% examples, 1141159 words/s, in_qsize 15, out_qsize 0\n",
      "2020-12-07 23:09:09,497 : INFO : EPOCH 12 - PROGRESS: at 83.29% examples, 1119568 words/s, in_qsize 15, out_qsize 0\n",
      "2020-12-07 23:09:10,505 : INFO : EPOCH 12 - PROGRESS: at 93.15% examples, 1126722 words/s, in_qsize 12, out_qsize 3\n",
      "2020-12-07 23:09:11,131 : INFO : worker thread finished; awaiting finish of 7 more threads\n",
      "2020-12-07 23:09:11,145 : INFO : worker thread finished; awaiting finish of 6 more threads\n",
      "2020-12-07 23:09:11,150 : INFO : worker thread finished; awaiting finish of 5 more threads\n",
      "2020-12-07 23:09:11,154 : INFO : worker thread finished; awaiting finish of 4 more threads\n",
      "2020-12-07 23:09:11,156 : INFO : worker thread finished; awaiting finish of 3 more threads\n",
      "2020-12-07 23:09:11,168 : INFO : worker thread finished; awaiting finish of 2 more threads\n",
      "2020-12-07 23:09:11,169 : INFO : worker thread finished; awaiting finish of 1 more threads\n",
      "2020-12-07 23:09:11,170 : INFO : worker thread finished; awaiting finish of 0 more threads\n"
     ]
    },
    {
     "name": "stderr",
     "output_type": "stream",
     "text": [
      "2020-12-07 23:09:11,171 : INFO : EPOCH - 12 : training on 16625290 raw words (12205719 effective words) took 10.8s, 1134635 effective words/s\n",
      "2020-12-07 23:09:12,186 : INFO : EPOCH 13 - PROGRESS: at 9.87% examples, 1200382 words/s, in_qsize 14, out_qsize 1\n",
      "2020-12-07 23:09:13,187 : INFO : EPOCH 13 - PROGRESS: at 19.48% examples, 1186340 words/s, in_qsize 12, out_qsize 3\n",
      "2020-12-07 23:09:14,190 : INFO : EPOCH 13 - PROGRESS: at 28.85% examples, 1171080 words/s, in_qsize 13, out_qsize 2\n",
      "2020-12-07 23:09:15,191 : INFO : EPOCH 13 - PROGRESS: at 38.45% examples, 1171584 words/s, in_qsize 13, out_qsize 2\n",
      "2020-12-07 23:09:16,192 : INFO : EPOCH 13 - PROGRESS: at 48.41% examples, 1180903 words/s, in_qsize 14, out_qsize 1\n",
      "2020-12-07 23:09:17,210 : INFO : EPOCH 13 - PROGRESS: at 58.49% examples, 1186051 words/s, in_qsize 12, out_qsize 3\n",
      "2020-12-07 23:09:18,224 : INFO : EPOCH 13 - PROGRESS: at 68.59% examples, 1190276 words/s, in_qsize 13, out_qsize 2\n",
      "2020-12-07 23:09:19,250 : INFO : EPOCH 13 - PROGRESS: at 77.38% examples, 1171685 words/s, in_qsize 14, out_qsize 1\n",
      "2020-12-07 23:09:20,255 : INFO : EPOCH 13 - PROGRESS: at 86.95% examples, 1170466 words/s, in_qsize 15, out_qsize 0\n",
      "2020-12-07 23:09:21,257 : INFO : EPOCH 13 - PROGRESS: at 94.67% examples, 1147237 words/s, in_qsize 15, out_qsize 0\n",
      "2020-12-07 23:09:21,883 : INFO : worker thread finished; awaiting finish of 7 more threads\n",
      "2020-12-07 23:09:21,895 : INFO : worker thread finished; awaiting finish of 6 more threads\n",
      "2020-12-07 23:09:21,899 : INFO : worker thread finished; awaiting finish of 5 more threads\n",
      "2020-12-07 23:09:21,900 : INFO : worker thread finished; awaiting finish of 4 more threads\n",
      "2020-12-07 23:09:21,901 : INFO : worker thread finished; awaiting finish of 3 more threads\n",
      "2020-12-07 23:09:21,906 : INFO : worker thread finished; awaiting finish of 2 more threads\n",
      "2020-12-07 23:09:21,909 : INFO : worker thread finished; awaiting finish of 1 more threads\n",
      "2020-12-07 23:09:21,918 : INFO : worker thread finished; awaiting finish of 0 more threads\n",
      "2020-12-07 23:09:21,919 : INFO : EPOCH - 13 : training on 16625290 raw words (12209188 effective words) took 10.7s, 1137228 effective words/s\n",
      "2020-12-07 23:09:22,938 : INFO : EPOCH 14 - PROGRESS: at 7.47% examples, 901725 words/s, in_qsize 15, out_qsize 0\n",
      "2020-12-07 23:09:23,941 : INFO : EPOCH 14 - PROGRESS: at 15.22% examples, 922367 words/s, in_qsize 15, out_qsize 0\n",
      "2020-12-07 23:09:24,958 : INFO : EPOCH 14 - PROGRESS: at 24.65% examples, 992847 words/s, in_qsize 14, out_qsize 1\n",
      "2020-12-07 23:09:25,981 : INFO : EPOCH 14 - PROGRESS: at 34.50% examples, 1039287 words/s, in_qsize 15, out_qsize 0\n",
      "2020-12-07 23:09:26,995 : INFO : EPOCH 14 - PROGRESS: at 43.19% examples, 1041397 words/s, in_qsize 16, out_qsize 1\n",
      "2020-12-07 23:09:28,010 : INFO : EPOCH 14 - PROGRESS: at 53.04% examples, 1065454 words/s, in_qsize 14, out_qsize 1\n",
      "2020-12-07 23:09:29,027 : INFO : EPOCH 14 - PROGRESS: at 63.05% examples, 1085589 words/s, in_qsize 15, out_qsize 0\n",
      "2020-12-07 23:09:30,039 : INFO : EPOCH 14 - PROGRESS: at 72.49% examples, 1092119 words/s, in_qsize 15, out_qsize 0\n",
      "2020-12-07 23:09:31,039 : INFO : EPOCH 14 - PROGRESS: at 81.97% examples, 1098739 words/s, in_qsize 14, out_qsize 1\n",
      "2020-12-07 23:09:32,043 : INFO : EPOCH 14 - PROGRESS: at 90.14% examples, 1088261 words/s, in_qsize 14, out_qsize 1\n",
      "2020-12-07 23:09:33,014 : INFO : worker thread finished; awaiting finish of 7 more threads\n",
      "2020-12-07 23:09:33,017 : INFO : worker thread finished; awaiting finish of 6 more threads\n",
      "2020-12-07 23:09:33,035 : INFO : worker thread finished; awaiting finish of 5 more threads\n",
      "2020-12-07 23:09:33,048 : INFO : EPOCH 14 - PROGRESS: at 99.76% examples, 1095428 words/s, in_qsize 3, out_qsize 3\n",
      "2020-12-07 23:09:33,051 : INFO : worker thread finished; awaiting finish of 4 more threads\n",
      "2020-12-07 23:09:33,052 : INFO : worker thread finished; awaiting finish of 3 more threads\n",
      "2020-12-07 23:09:33,053 : INFO : worker thread finished; awaiting finish of 2 more threads\n",
      "2020-12-07 23:09:33,055 : INFO : worker thread finished; awaiting finish of 1 more threads\n",
      "2020-12-07 23:09:33,057 : INFO : worker thread finished; awaiting finish of 0 more threads\n",
      "2020-12-07 23:09:33,058 : INFO : EPOCH - 14 : training on 16625290 raw words (12209171 effective words) took 11.1s, 1097024 effective words/s\n",
      "2020-12-07 23:09:34,080 : INFO : EPOCH 15 - PROGRESS: at 7.11% examples, 858368 words/s, in_qsize 15, out_qsize 0\n",
      "2020-12-07 23:09:35,087 : INFO : EPOCH 15 - PROGRESS: at 15.70% examples, 949710 words/s, in_qsize 16, out_qsize 1\n",
      "2020-12-07 23:09:36,100 : INFO : EPOCH 15 - PROGRESS: at 25.55% examples, 1028992 words/s, in_qsize 14, out_qsize 1\n",
      "2020-12-07 23:09:37,113 : INFO : EPOCH 15 - PROGRESS: at 35.39% examples, 1069182 words/s, in_qsize 15, out_qsize 0\n",
      "2020-12-07 23:09:38,126 : INFO : EPOCH 15 - PROGRESS: at 45.11% examples, 1090210 words/s, in_qsize 15, out_qsize 0\n",
      "2020-12-07 23:09:39,133 : INFO : EPOCH 15 - PROGRESS: at 54.94% examples, 1107454 words/s, in_qsize 12, out_qsize 3\n",
      "2020-12-07 23:09:40,142 : INFO : EPOCH 15 - PROGRESS: at 64.86% examples, 1120835 words/s, in_qsize 15, out_qsize 0\n",
      "2020-12-07 23:09:41,143 : INFO : EPOCH 15 - PROGRESS: at 74.48% examples, 1127286 words/s, in_qsize 14, out_qsize 1\n",
      "2020-12-07 23:09:42,158 : INFO : EPOCH 15 - PROGRESS: at 84.31% examples, 1132956 words/s, in_qsize 15, out_qsize 0\n",
      "2020-12-07 23:09:43,164 : INFO : EPOCH 15 - PROGRESS: at 94.06% examples, 1137744 words/s, in_qsize 16, out_qsize 3\n",
      "2020-12-07 23:09:43,727 : INFO : worker thread finished; awaiting finish of 7 more threads\n",
      "2020-12-07 23:09:43,729 : INFO : worker thread finished; awaiting finish of 6 more threads\n",
      "2020-12-07 23:09:43,735 : INFO : worker thread finished; awaiting finish of 5 more threads\n",
      "2020-12-07 23:09:43,737 : INFO : worker thread finished; awaiting finish of 4 more threads\n",
      "2020-12-07 23:09:43,751 : INFO : worker thread finished; awaiting finish of 3 more threads\n",
      "2020-12-07 23:09:43,755 : INFO : worker thread finished; awaiting finish of 2 more threads\n",
      "2020-12-07 23:09:43,756 : INFO : worker thread finished; awaiting finish of 1 more threads\n",
      "2020-12-07 23:09:43,757 : INFO : worker thread finished; awaiting finish of 0 more threads\n",
      "2020-12-07 23:09:43,757 : INFO : EPOCH - 15 : training on 16625290 raw words (12208655 effective words) took 10.7s, 1142526 effective words/s\n",
      "2020-12-07 23:09:44,792 : INFO : EPOCH 16 - PROGRESS: at 9.63% examples, 1154522 words/s, in_qsize 14, out_qsize 1\n",
      "2020-12-07 23:09:45,807 : INFO : EPOCH 16 - PROGRESS: at 19.43% examples, 1166041 words/s, in_qsize 14, out_qsize 1\n",
      "2020-12-07 23:09:46,808 : INFO : EPOCH 16 - PROGRESS: at 29.21% examples, 1175432 words/s, in_qsize 13, out_qsize 2\n",
      "2020-12-07 23:09:47,815 : INFO : EPOCH 16 - PROGRESS: at 39.05% examples, 1180477 words/s, in_qsize 15, out_qsize 0\n",
      "2020-12-07 23:09:48,831 : INFO : EPOCH 16 - PROGRESS: at 48.89% examples, 1181067 words/s, in_qsize 15, out_qsize 0\n",
      "2020-12-07 23:09:49,832 : INFO : EPOCH 16 - PROGRESS: at 58.61% examples, 1182267 words/s, in_qsize 13, out_qsize 2\n",
      "2020-12-07 23:09:50,840 : INFO : EPOCH 16 - PROGRESS: at 68.47% examples, 1183858 words/s, in_qsize 15, out_qsize 0\n",
      "2020-12-07 23:09:51,852 : INFO : EPOCH 16 - PROGRESS: at 78.35% examples, 1184606 words/s, in_qsize 15, out_qsize 0\n",
      "2020-12-07 23:09:52,856 : INFO : EPOCH 16 - PROGRESS: at 88.22% examples, 1186043 words/s, in_qsize 14, out_qsize 1\n",
      "2020-12-07 23:09:53,860 : INFO : EPOCH 16 - PROGRESS: at 97.96% examples, 1185722 words/s, in_qsize 12, out_qsize 3\n",
      "2020-12-07 23:09:54,016 : INFO : worker thread finished; awaiting finish of 7 more threads\n",
      "2020-12-07 23:09:54,034 : INFO : worker thread finished; awaiting finish of 6 more threads\n",
      "2020-12-07 23:09:54,036 : INFO : worker thread finished; awaiting finish of 5 more threads\n",
      "2020-12-07 23:09:54,037 : INFO : worker thread finished; awaiting finish of 4 more threads\n",
      "2020-12-07 23:09:54,044 : INFO : worker thread finished; awaiting finish of 3 more threads\n",
      "2020-12-07 23:09:54,050 : INFO : worker thread finished; awaiting finish of 2 more threads\n",
      "2020-12-07 23:09:54,055 : INFO : worker thread finished; awaiting finish of 1 more threads\n",
      "2020-12-07 23:09:54,056 : INFO : worker thread finished; awaiting finish of 0 more threads\n"
     ]
    },
    {
     "name": "stderr",
     "output_type": "stream",
     "text": [
      "2020-12-07 23:09:54,056 : INFO : EPOCH - 16 : training on 16625290 raw words (12207161 effective words) took 10.3s, 1187319 effective words/s\n",
      "2020-12-07 23:09:55,069 : INFO : EPOCH 17 - PROGRESS: at 9.57% examples, 1165627 words/s, in_qsize 14, out_qsize 1\n",
      "2020-12-07 23:09:56,071 : INFO : EPOCH 17 - PROGRESS: at 19.06% examples, 1161142 words/s, in_qsize 14, out_qsize 1\n",
      "2020-12-07 23:09:57,072 : INFO : EPOCH 17 - PROGRESS: at 28.91% examples, 1175193 words/s, in_qsize 14, out_qsize 1\n",
      "2020-12-07 23:09:58,075 : INFO : EPOCH 17 - PROGRESS: at 38.63% examples, 1177712 words/s, in_qsize 14, out_qsize 1\n",
      "2020-12-07 23:09:59,081 : INFO : EPOCH 17 - PROGRESS: at 48.41% examples, 1179922 words/s, in_qsize 15, out_qsize 0\n",
      "2020-12-07 23:10:00,094 : INFO : EPOCH 17 - PROGRESS: at 58.26% examples, 1181254 words/s, in_qsize 13, out_qsize 2\n",
      "2020-12-07 23:10:01,111 : INFO : EPOCH 17 - PROGRESS: at 68.17% examples, 1182556 words/s, in_qsize 15, out_qsize 0\n",
      "2020-12-07 23:10:02,127 : INFO : EPOCH 17 - PROGRESS: at 77.98% examples, 1181931 words/s, in_qsize 15, out_qsize 0\n",
      "2020-12-07 23:10:03,128 : INFO : EPOCH 17 - PROGRESS: at 87.74% examples, 1182587 words/s, in_qsize 13, out_qsize 2\n",
      "2020-12-07 23:10:04,135 : INFO : EPOCH 17 - PROGRESS: at 97.55% examples, 1182974 words/s, in_qsize 14, out_qsize 1\n",
      "2020-12-07 23:10:04,341 : INFO : worker thread finished; awaiting finish of 7 more threads\n",
      "2020-12-07 23:10:04,344 : INFO : worker thread finished; awaiting finish of 6 more threads\n",
      "2020-12-07 23:10:04,352 : INFO : worker thread finished; awaiting finish of 5 more threads\n",
      "2020-12-07 23:10:04,354 : INFO : worker thread finished; awaiting finish of 4 more threads\n",
      "2020-12-07 23:10:04,355 : INFO : worker thread finished; awaiting finish of 3 more threads\n",
      "2020-12-07 23:10:04,356 : INFO : worker thread finished; awaiting finish of 2 more threads\n",
      "2020-12-07 23:10:04,363 : INFO : worker thread finished; awaiting finish of 1 more threads\n",
      "2020-12-07 23:10:04,367 : INFO : worker thread finished; awaiting finish of 0 more threads\n",
      "2020-12-07 23:10:04,368 : INFO : EPOCH - 17 : training on 16625290 raw words (12209976 effective words) took 10.3s, 1185397 effective words/s\n",
      "2020-12-07 23:10:05,394 : INFO : EPOCH 18 - PROGRESS: at 9.63% examples, 1159111 words/s, in_qsize 15, out_qsize 0\n",
      "2020-12-07 23:10:06,394 : INFO : EPOCH 18 - PROGRESS: at 19.42% examples, 1176800 words/s, in_qsize 15, out_qsize 0\n",
      "2020-12-07 23:10:07,408 : INFO : EPOCH 18 - PROGRESS: at 29.45% examples, 1187332 words/s, in_qsize 14, out_qsize 1\n",
      "2020-12-07 23:10:08,425 : INFO : EPOCH 18 - PROGRESS: at 39.29% examples, 1186423 words/s, in_qsize 16, out_qsize 1\n",
      "2020-12-07 23:10:09,428 : INFO : EPOCH 18 - PROGRESS: at 48.77% examples, 1180506 words/s, in_qsize 15, out_qsize 0\n",
      "2020-12-07 23:10:10,436 : INFO : EPOCH 18 - PROGRESS: at 58.26% examples, 1175420 words/s, in_qsize 15, out_qsize 0\n",
      "2020-12-07 23:10:11,440 : INFO : EPOCH 18 - PROGRESS: at 67.87% examples, 1174444 words/s, in_qsize 16, out_qsize 0\n",
      "2020-12-07 23:10:12,446 : INFO : EPOCH 18 - PROGRESS: at 77.80% examples, 1178115 words/s, in_qsize 14, out_qsize 1\n",
      "2020-12-07 23:10:13,453 : INFO : EPOCH 18 - PROGRESS: at 87.68% examples, 1179922 words/s, in_qsize 14, out_qsize 1\n",
      "2020-12-07 23:10:14,470 : INFO : EPOCH 18 - PROGRESS: at 97.55% examples, 1180228 words/s, in_qsize 14, out_qsize 1\n",
      "2020-12-07 23:10:14,665 : INFO : worker thread finished; awaiting finish of 7 more threads\n",
      "2020-12-07 23:10:14,669 : INFO : worker thread finished; awaiting finish of 6 more threads\n",
      "2020-12-07 23:10:14,683 : INFO : worker thread finished; awaiting finish of 5 more threads\n",
      "2020-12-07 23:10:14,693 : INFO : worker thread finished; awaiting finish of 4 more threads\n",
      "2020-12-07 23:10:14,695 : INFO : worker thread finished; awaiting finish of 3 more threads\n",
      "2020-12-07 23:10:14,696 : INFO : worker thread finished; awaiting finish of 2 more threads\n",
      "2020-12-07 23:10:14,703 : INFO : worker thread finished; awaiting finish of 1 more threads\n",
      "2020-12-07 23:10:14,706 : INFO : worker thread finished; awaiting finish of 0 more threads\n",
      "2020-12-07 23:10:14,706 : INFO : EPOCH - 18 : training on 16625290 raw words (12207042 effective words) took 10.3s, 1182208 effective words/s\n",
      "2020-12-07 23:10:15,731 : INFO : EPOCH 19 - PROGRESS: at 9.63% examples, 1159442 words/s, in_qsize 15, out_qsize 0\n",
      "2020-12-07 23:10:16,750 : INFO : EPOCH 19 - PROGRESS: at 19.54% examples, 1173856 words/s, in_qsize 14, out_qsize 1\n",
      "2020-12-07 23:10:17,767 : INFO : EPOCH 19 - PROGRESS: at 29.51% examples, 1181690 words/s, in_qsize 15, out_qsize 0\n",
      "2020-12-07 23:10:18,767 : INFO : EPOCH 19 - PROGRESS: at 39.17% examples, 1181614 words/s, in_qsize 15, out_qsize 0\n",
      "2020-12-07 23:10:19,779 : INFO : EPOCH 19 - PROGRESS: at 49.01% examples, 1183288 words/s, in_qsize 14, out_qsize 1\n",
      "2020-12-07 23:10:20,782 : INFO : EPOCH 19 - PROGRESS: at 58.67% examples, 1182312 words/s, in_qsize 14, out_qsize 1\n",
      "2020-12-07 23:10:21,784 : INFO : EPOCH 19 - PROGRESS: at 68.47% examples, 1183963 words/s, in_qsize 14, out_qsize 1\n",
      "2020-12-07 23:10:22,789 : INFO : EPOCH 19 - PROGRESS: at 77.68% examples, 1175630 words/s, in_qsize 15, out_qsize 0\n",
      "2020-12-07 23:10:23,807 : INFO : EPOCH 19 - PROGRESS: at 85.03% examples, 1142384 words/s, in_qsize 16, out_qsize 2\n",
      "2020-12-07 23:10:24,828 : INFO : EPOCH 19 - PROGRESS: at 92.25% examples, 1114094 words/s, in_qsize 13, out_qsize 2\n",
      "2020-12-07 23:10:25,832 : INFO : EPOCH 19 - PROGRESS: at 99.28% examples, 1090654 words/s, in_qsize 12, out_qsize 0\n",
      "2020-12-07 23:10:25,884 : INFO : worker thread finished; awaiting finish of 7 more threads\n",
      "2020-12-07 23:10:25,886 : INFO : worker thread finished; awaiting finish of 6 more threads\n",
      "2020-12-07 23:10:25,899 : INFO : worker thread finished; awaiting finish of 5 more threads\n",
      "2020-12-07 23:10:25,903 : INFO : worker thread finished; awaiting finish of 4 more threads\n",
      "2020-12-07 23:10:25,911 : INFO : worker thread finished; awaiting finish of 3 more threads\n",
      "2020-12-07 23:10:25,913 : INFO : worker thread finished; awaiting finish of 2 more threads\n",
      "2020-12-07 23:10:25,921 : INFO : worker thread finished; awaiting finish of 1 more threads\n",
      "2020-12-07 23:10:25,927 : INFO : worker thread finished; awaiting finish of 0 more threads\n",
      "2020-12-07 23:10:25,927 : INFO : EPOCH - 19 : training on 16625290 raw words (12208769 effective words) took 11.2s, 1089177 effective words/s\n",
      "2020-12-07 23:10:26,954 : INFO : EPOCH 20 - PROGRESS: at 7.89% examples, 948682 words/s, in_qsize 14, out_qsize 1\n",
      "2020-12-07 23:10:27,961 : INFO : EPOCH 20 - PROGRESS: at 16.24% examples, 980568 words/s, in_qsize 16, out_qsize 2\n",
      "2020-12-07 23:10:28,987 : INFO : EPOCH 20 - PROGRESS: at 23.51% examples, 941535 words/s, in_qsize 15, out_qsize 0\n",
      "2020-12-07 23:10:29,997 : INFO : EPOCH 20 - PROGRESS: at 30.83% examples, 927927 words/s, in_qsize 14, out_qsize 1\n",
      "2020-12-07 23:10:31,014 : INFO : EPOCH 20 - PROGRESS: at 38.81% examples, 934326 words/s, in_qsize 14, out_qsize 1\n",
      "2020-12-07 23:10:32,022 : INFO : EPOCH 20 - PROGRESS: at 47.34% examples, 950768 words/s, in_qsize 14, out_qsize 1\n",
      "2020-12-07 23:10:33,024 : INFO : EPOCH 20 - PROGRESS: at 54.59% examples, 941716 words/s, in_qsize 16, out_qsize 2\n",
      "2020-12-07 23:10:34,033 : INFO : EPOCH 20 - PROGRESS: at 61.92% examples, 934870 words/s, in_qsize 15, out_qsize 0\n",
      "2020-12-07 23:10:35,037 : INFO : EPOCH 20 - PROGRESS: at 69.13% examples, 928536 words/s, in_qsize 15, out_qsize 0\n",
      "2020-12-07 23:10:36,038 : INFO : EPOCH 20 - PROGRESS: at 76.23% examples, 922227 words/s, in_qsize 13, out_qsize 2\n",
      "2020-12-07 23:10:37,071 : INFO : EPOCH 20 - PROGRESS: at 83.53% examples, 916432 words/s, in_qsize 12, out_qsize 3\n",
      "2020-12-07 23:10:38,087 : INFO : EPOCH 20 - PROGRESS: at 90.81% examples, 912742 words/s, in_qsize 16, out_qsize 0\n",
      "2020-12-07 23:10:39,109 : INFO : EPOCH 20 - PROGRESS: at 97.73% examples, 905973 words/s, in_qsize 16, out_qsize 1\n",
      "2020-12-07 23:10:39,319 : INFO : worker thread finished; awaiting finish of 7 more threads\n",
      "2020-12-07 23:10:39,335 : INFO : worker thread finished; awaiting finish of 6 more threads\n",
      "2020-12-07 23:10:39,353 : INFO : worker thread finished; awaiting finish of 5 more threads\n",
      "2020-12-07 23:10:39,358 : INFO : worker thread finished; awaiting finish of 4 more threads\n"
     ]
    },
    {
     "name": "stderr",
     "output_type": "stream",
     "text": [
      "2020-12-07 23:10:39,364 : INFO : worker thread finished; awaiting finish of 3 more threads\n",
      "2020-12-07 23:10:39,365 : INFO : worker thread finished; awaiting finish of 2 more threads\n",
      "2020-12-07 23:10:39,368 : INFO : worker thread finished; awaiting finish of 1 more threads\n",
      "2020-12-07 23:10:39,379 : INFO : worker thread finished; awaiting finish of 0 more threads\n",
      "2020-12-07 23:10:39,380 : INFO : EPOCH - 20 : training on 16625290 raw words (12207923 effective words) took 13.4s, 908416 effective words/s\n",
      "2020-12-07 23:10:40,394 : INFO : EPOCH 21 - PROGRESS: at 6.93% examples, 841559 words/s, in_qsize 15, out_qsize 0\n",
      "2020-12-07 23:10:41,394 : INFO : EPOCH 21 - PROGRESS: at 13.91% examples, 846141 words/s, in_qsize 13, out_qsize 2\n",
      "2020-12-07 23:10:42,398 : INFO : EPOCH 21 - PROGRESS: at 21.89% examples, 888094 words/s, in_qsize 16, out_qsize 1\n",
      "2020-12-07 23:10:43,407 : INFO : EPOCH 21 - PROGRESS: at 30.53% examples, 928091 words/s, in_qsize 14, out_qsize 1\n",
      "2020-12-07 23:10:44,414 : INFO : EPOCH 21 - PROGRESS: at 40.13% examples, 975654 words/s, in_qsize 15, out_qsize 0\n",
      "2020-12-07 23:10:45,416 : INFO : EPOCH 21 - PROGRESS: at 49.91% examples, 1012068 words/s, in_qsize 15, out_qsize 0\n",
      "2020-12-07 23:10:46,422 : INFO : EPOCH 21 - PROGRESS: at 59.22% examples, 1028977 words/s, in_qsize 15, out_qsize 0\n",
      "2020-12-07 23:10:47,433 : INFO : EPOCH 21 - PROGRESS: at 67.45% examples, 1024660 words/s, in_qsize 15, out_qsize 0\n",
      "2020-12-07 23:10:48,435 : INFO : EPOCH 21 - PROGRESS: at 75.14% examples, 1014965 words/s, in_qsize 15, out_qsize 0\n",
      "2020-12-07 23:10:49,446 : INFO : EPOCH 21 - PROGRESS: at 82.27% examples, 998896 words/s, in_qsize 14, out_qsize 1\n",
      "2020-12-07 23:10:50,459 : INFO : EPOCH 21 - PROGRESS: at 89.53% examples, 987644 words/s, in_qsize 13, out_qsize 2\n",
      "2020-12-07 23:10:51,474 : INFO : EPOCH 21 - PROGRESS: at 96.71% examples, 976897 words/s, in_qsize 14, out_qsize 1\n",
      "2020-12-07 23:10:51,865 : INFO : worker thread finished; awaiting finish of 7 more threads\n",
      "2020-12-07 23:10:51,875 : INFO : worker thread finished; awaiting finish of 6 more threads\n",
      "2020-12-07 23:10:51,895 : INFO : worker thread finished; awaiting finish of 5 more threads\n",
      "2020-12-07 23:10:51,897 : INFO : worker thread finished; awaiting finish of 4 more threads\n",
      "2020-12-07 23:10:51,898 : INFO : worker thread finished; awaiting finish of 3 more threads\n",
      "2020-12-07 23:10:51,899 : INFO : worker thread finished; awaiting finish of 2 more threads\n",
      "2020-12-07 23:10:51,907 : INFO : worker thread finished; awaiting finish of 1 more threads\n",
      "2020-12-07 23:10:51,911 : INFO : worker thread finished; awaiting finish of 0 more threads\n",
      "2020-12-07 23:10:51,912 : INFO : EPOCH - 21 : training on 16625290 raw words (12207295 effective words) took 12.5s, 974957 effective words/s\n",
      "2020-12-07 23:10:52,931 : INFO : EPOCH 22 - PROGRESS: at 7.23% examples, 874557 words/s, in_qsize 14, out_qsize 1\n",
      "2020-12-07 23:10:53,932 : INFO : EPOCH 22 - PROGRESS: at 14.86% examples, 902474 words/s, in_qsize 14, out_qsize 1\n",
      "2020-12-07 23:10:54,934 : INFO : EPOCH 22 - PROGRESS: at 22.01% examples, 892263 words/s, in_qsize 14, out_qsize 1\n",
      "2020-12-07 23:10:55,959 : INFO : EPOCH 22 - PROGRESS: at 28.97% examples, 876613 words/s, in_qsize 16, out_qsize 0\n",
      "2020-12-07 23:10:56,961 : INFO : EPOCH 22 - PROGRESS: at 37.79% examples, 916414 words/s, in_qsize 15, out_qsize 0\n",
      "2020-12-07 23:10:57,968 : INFO : EPOCH 22 - PROGRESS: at 47.40% examples, 958054 words/s, in_qsize 14, out_qsize 1\n",
      "2020-12-07 23:10:58,970 : INFO : EPOCH 22 - PROGRESS: at 57.17% examples, 991594 words/s, in_qsize 15, out_qsize 0\n",
      "2020-12-07 23:10:59,973 : INFO : EPOCH 22 - PROGRESS: at 66.73% examples, 1012977 words/s, in_qsize 15, out_qsize 0\n",
      "2020-12-07 23:11:00,974 : INFO : EPOCH 22 - PROGRESS: at 76.35% examples, 1030649 words/s, in_qsize 15, out_qsize 0\n",
      "2020-12-07 23:11:01,980 : INFO : EPOCH 22 - PROGRESS: at 86.17% examples, 1046456 words/s, in_qsize 15, out_qsize 0\n",
      "2020-12-07 23:11:02,982 : INFO : EPOCH 22 - PROGRESS: at 96.17% examples, 1061664 words/s, in_qsize 13, out_qsize 2\n",
      "2020-12-07 23:11:03,321 : INFO : worker thread finished; awaiting finish of 7 more threads\n",
      "2020-12-07 23:11:03,324 : INFO : worker thread finished; awaiting finish of 6 more threads\n",
      "2020-12-07 23:11:03,333 : INFO : worker thread finished; awaiting finish of 5 more threads\n",
      "2020-12-07 23:11:03,350 : INFO : worker thread finished; awaiting finish of 4 more threads\n",
      "2020-12-07 23:11:03,351 : INFO : worker thread finished; awaiting finish of 3 more threads\n",
      "2020-12-07 23:11:03,353 : INFO : worker thread finished; awaiting finish of 2 more threads\n",
      "2020-12-07 23:11:03,354 : INFO : worker thread finished; awaiting finish of 1 more threads\n",
      "2020-12-07 23:11:03,357 : INFO : worker thread finished; awaiting finish of 0 more threads\n",
      "2020-12-07 23:11:03,358 : INFO : EPOCH - 22 : training on 16625290 raw words (12208539 effective words) took 11.4s, 1067779 effective words/s\n",
      "2020-12-07 23:11:04,383 : INFO : EPOCH 23 - PROGRESS: at 9.81% examples, 1180344 words/s, in_qsize 15, out_qsize 0\n",
      "2020-12-07 23:11:05,390 : INFO : EPOCH 23 - PROGRESS: at 19.72% examples, 1191229 words/s, in_qsize 15, out_qsize 0\n",
      "2020-12-07 23:11:06,417 : INFO : EPOCH 23 - PROGRESS: at 28.25% examples, 1131839 words/s, in_qsize 16, out_qsize 1\n",
      "2020-12-07 23:11:07,430 : INFO : EPOCH 23 - PROGRESS: at 36.70% examples, 1104142 words/s, in_qsize 16, out_qsize 3\n",
      "2020-12-07 23:11:08,439 : INFO : EPOCH 23 - PROGRESS: at 45.84% examples, 1104579 words/s, in_qsize 14, out_qsize 1\n",
      "2020-12-07 23:11:09,460 : INFO : EPOCH 23 - PROGRESS: at 54.47% examples, 1092947 words/s, in_qsize 13, out_qsize 2\n",
      "2020-12-07 23:11:10,461 : INFO : EPOCH 23 - PROGRESS: at 63.05% examples, 1086630 words/s, in_qsize 15, out_qsize 0\n",
      "2020-12-07 23:11:11,480 : INFO : EPOCH 23 - PROGRESS: at 72.49% examples, 1092060 words/s, in_qsize 15, out_qsize 0\n",
      "2020-12-07 23:11:12,481 : INFO : EPOCH 23 - PROGRESS: at 82.21% examples, 1101840 words/s, in_qsize 14, out_qsize 1\n",
      "2020-12-07 23:11:13,491 : INFO : EPOCH 23 - PROGRESS: at 92.25% examples, 1112794 words/s, in_qsize 15, out_qsize 0\n",
      "2020-12-07 23:11:14,207 : INFO : worker thread finished; awaiting finish of 7 more threads\n",
      "2020-12-07 23:11:14,210 : INFO : worker thread finished; awaiting finish of 6 more threads\n",
      "2020-12-07 23:11:14,229 : INFO : worker thread finished; awaiting finish of 5 more threads\n",
      "2020-12-07 23:11:14,233 : INFO : worker thread finished; awaiting finish of 4 more threads\n",
      "2020-12-07 23:11:14,234 : INFO : worker thread finished; awaiting finish of 3 more threads\n",
      "2020-12-07 23:11:14,236 : INFO : worker thread finished; awaiting finish of 2 more threads\n",
      "2020-12-07 23:11:14,245 : INFO : worker thread finished; awaiting finish of 1 more threads\n",
      "2020-12-07 23:11:14,247 : INFO : worker thread finished; awaiting finish of 0 more threads\n",
      "2020-12-07 23:11:14,248 : INFO : EPOCH - 23 : training on 16625290 raw words (12208470 effective words) took 10.9s, 1122339 effective words/s\n",
      "2020-12-07 23:11:15,267 : INFO : EPOCH 24 - PROGRESS: at 9.75% examples, 1181263 words/s, in_qsize 14, out_qsize 1\n",
      "2020-12-07 23:11:16,286 : INFO : EPOCH 24 - PROGRESS: at 19.96% examples, 1202180 words/s, in_qsize 14, out_qsize 1\n",
      "2020-12-07 23:11:17,290 : INFO : EPOCH 24 - PROGRESS: at 30.11% examples, 1213075 words/s, in_qsize 16, out_qsize 1\n",
      "2020-12-07 23:11:18,312 : INFO : EPOCH 24 - PROGRESS: at 40.25% examples, 1213291 words/s, in_qsize 15, out_qsize 0\n",
      "2020-12-07 23:11:19,332 : INFO : EPOCH 24 - PROGRESS: at 50.51% examples, 1216770 words/s, in_qsize 13, out_qsize 2\n",
      "2020-12-07 23:11:20,335 : INFO : EPOCH 24 - PROGRESS: at 60.66% examples, 1220006 words/s, in_qsize 14, out_qsize 1\n",
      "2020-12-07 23:11:21,340 : INFO : EPOCH 24 - PROGRESS: at 70.82% examples, 1221929 words/s, in_qsize 14, out_qsize 1\n",
      "2020-12-07 23:11:22,345 : INFO : EPOCH 24 - PROGRESS: at 80.83% examples, 1220779 words/s, in_qsize 15, out_qsize 0\n",
      "2020-12-07 23:11:23,351 : INFO : EPOCH 24 - PROGRESS: at 90.32% examples, 1213147 words/s, in_qsize 14, out_qsize 1\n",
      "2020-12-07 23:11:24,265 : INFO : worker thread finished; awaiting finish of 7 more threads\n",
      "2020-12-07 23:11:24,268 : INFO : worker thread finished; awaiting finish of 6 more threads\n",
      "2020-12-07 23:11:24,269 : INFO : worker thread finished; awaiting finish of 5 more threads\n"
     ]
    },
    {
     "name": "stderr",
     "output_type": "stream",
     "text": [
      "2020-12-07 23:11:24,275 : INFO : worker thread finished; awaiting finish of 4 more threads\n",
      "2020-12-07 23:11:24,276 : INFO : worker thread finished; awaiting finish of 3 more threads\n",
      "2020-12-07 23:11:24,278 : INFO : worker thread finished; awaiting finish of 2 more threads\n",
      "2020-12-07 23:11:24,288 : INFO : worker thread finished; awaiting finish of 1 more threads\n",
      "2020-12-07 23:11:24,288 : INFO : worker thread finished; awaiting finish of 0 more threads\n",
      "2020-12-07 23:11:24,289 : INFO : EPOCH - 24 : training on 16625290 raw words (12207597 effective words) took 10.0s, 1217252 effective words/s\n",
      "2020-12-07 23:11:25,310 : INFO : EPOCH 25 - PROGRESS: at 9.33% examples, 1136688 words/s, in_qsize 15, out_qsize 0\n",
      "2020-12-07 23:11:26,325 : INFO : EPOCH 25 - PROGRESS: at 18.88% examples, 1142483 words/s, in_qsize 13, out_qsize 2\n",
      "2020-12-07 23:11:27,329 : INFO : EPOCH 25 - PROGRESS: at 27.47% examples, 1110477 words/s, in_qsize 15, out_qsize 0\n",
      "2020-12-07 23:11:28,344 : INFO : EPOCH 25 - PROGRESS: at 35.45% examples, 1073044 words/s, in_qsize 15, out_qsize 0\n",
      "2020-12-07 23:11:29,346 : INFO : EPOCH 25 - PROGRESS: at 42.83% examples, 1038681 words/s, in_qsize 15, out_qsize 0\n",
      "2020-12-07 23:11:30,366 : INFO : EPOCH 25 - PROGRESS: at 51.65% examples, 1042014 words/s, in_qsize 12, out_qsize 3\n",
      "2020-12-07 23:11:31,371 : INFO : EPOCH 25 - PROGRESS: at 61.56% examples, 1065127 words/s, in_qsize 13, out_qsize 2\n",
      "2020-12-07 23:11:32,384 : INFO : EPOCH 25 - PROGRESS: at 71.36% examples, 1079463 words/s, in_qsize 14, out_qsize 1\n",
      "2020-12-07 23:11:33,404 : INFO : EPOCH 25 - PROGRESS: at 80.83% examples, 1085126 words/s, in_qsize 14, out_qsize 1\n",
      "2020-12-07 23:11:34,417 : INFO : EPOCH 25 - PROGRESS: at 90.68% examples, 1095302 words/s, in_qsize 13, out_qsize 2\n",
      "2020-12-07 23:11:35,426 : INFO : EPOCH 25 - PROGRESS: at 99.40% examples, 1091602 words/s, in_qsize 10, out_qsize 0\n",
      "2020-12-07 23:11:35,452 : INFO : worker thread finished; awaiting finish of 7 more threads\n",
      "2020-12-07 23:11:35,466 : INFO : worker thread finished; awaiting finish of 6 more threads\n",
      "2020-12-07 23:11:35,467 : INFO : worker thread finished; awaiting finish of 5 more threads\n",
      "2020-12-07 23:11:35,468 : INFO : worker thread finished; awaiting finish of 4 more threads\n",
      "2020-12-07 23:11:35,474 : INFO : worker thread finished; awaiting finish of 3 more threads\n",
      "2020-12-07 23:11:35,482 : INFO : worker thread finished; awaiting finish of 2 more threads\n",
      "2020-12-07 23:11:35,483 : INFO : worker thread finished; awaiting finish of 1 more threads\n",
      "2020-12-07 23:11:35,491 : INFO : worker thread finished; awaiting finish of 0 more threads\n",
      "2020-12-07 23:11:35,492 : INFO : EPOCH - 25 : training on 16625290 raw words (12207972 effective words) took 11.2s, 1091637 effective words/s\n",
      "2020-12-07 23:11:36,509 : INFO : EPOCH 26 - PROGRESS: at 6.99% examples, 847833 words/s, in_qsize 14, out_qsize 1\n",
      "2020-12-07 23:11:37,528 : INFO : EPOCH 26 - PROGRESS: at 15.82% examples, 953383 words/s, in_qsize 15, out_qsize 0\n",
      "2020-12-07 23:11:38,555 : INFO : EPOCH 26 - PROGRESS: at 24.47% examples, 978761 words/s, in_qsize 16, out_qsize 1\n",
      "2020-12-07 23:11:39,560 : INFO : EPOCH 26 - PROGRESS: at 34.49% examples, 1038493 words/s, in_qsize 14, out_qsize 1\n",
      "2020-12-07 23:11:40,570 : INFO : EPOCH 26 - PROGRESS: at 42.05% examples, 1014003 words/s, in_qsize 14, out_qsize 1\n",
      "2020-12-07 23:11:41,587 : INFO : EPOCH 26 - PROGRESS: at 50.99% examples, 1024158 words/s, in_qsize 12, out_qsize 3\n",
      "2020-12-07 23:11:42,588 : INFO : EPOCH 26 - PROGRESS: at 60.48% examples, 1043056 words/s, in_qsize 14, out_qsize 1\n",
      "2020-12-07 23:11:43,590 : INFO : EPOCH 26 - PROGRESS: at 69.98% examples, 1057149 words/s, in_qsize 14, out_qsize 1\n",
      "2020-12-07 23:11:44,590 : INFO : EPOCH 26 - PROGRESS: at 79.91% examples, 1074000 words/s, in_qsize 15, out_qsize 0\n",
      "2020-12-07 23:11:45,602 : INFO : EPOCH 26 - PROGRESS: at 87.91% examples, 1062980 words/s, in_qsize 15, out_qsize 0\n",
      "2020-12-07 23:11:46,606 : INFO : EPOCH 26 - PROGRESS: at 96.05% examples, 1056007 words/s, in_qsize 12, out_qsize 3\n",
      "2020-12-07 23:11:47,107 : INFO : worker thread finished; awaiting finish of 7 more threads\n",
      "2020-12-07 23:11:47,111 : INFO : worker thread finished; awaiting finish of 6 more threads\n",
      "2020-12-07 23:11:47,117 : INFO : worker thread finished; awaiting finish of 5 more threads\n",
      "2020-12-07 23:11:47,119 : INFO : worker thread finished; awaiting finish of 4 more threads\n",
      "2020-12-07 23:11:47,128 : INFO : worker thread finished; awaiting finish of 3 more threads\n",
      "2020-12-07 23:11:47,139 : INFO : worker thread finished; awaiting finish of 2 more threads\n",
      "2020-12-07 23:11:47,141 : INFO : worker thread finished; awaiting finish of 1 more threads\n",
      "2020-12-07 23:11:47,142 : INFO : worker thread finished; awaiting finish of 0 more threads\n",
      "2020-12-07 23:11:47,143 : INFO : EPOCH - 26 : training on 16625290 raw words (12206183 effective words) took 11.6s, 1048880 effective words/s\n",
      "2020-12-07 23:11:48,157 : INFO : EPOCH 27 - PROGRESS: at 9.33% examples, 1131076 words/s, in_qsize 13, out_qsize 2\n",
      "2020-12-07 23:11:49,163 : INFO : EPOCH 27 - PROGRESS: at 16.36% examples, 991723 words/s, in_qsize 14, out_qsize 1\n",
      "2020-12-07 23:11:50,179 : INFO : EPOCH 27 - PROGRESS: at 24.16% examples, 974150 words/s, in_qsize 15, out_qsize 0\n",
      "2020-12-07 23:11:51,206 : INFO : EPOCH 27 - PROGRESS: at 31.07% examples, 935682 words/s, in_qsize 16, out_qsize 0\n",
      "2020-12-07 23:11:52,222 : INFO : EPOCH 27 - PROGRESS: at 38.27% examples, 921789 words/s, in_qsize 15, out_qsize 0\n",
      "2020-12-07 23:11:53,232 : INFO : EPOCH 27 - PROGRESS: at 46.13% examples, 926850 words/s, in_qsize 15, out_qsize 0\n",
      "2020-12-07 23:11:54,233 : INFO : EPOCH 27 - PROGRESS: at 54.05% examples, 932582 words/s, in_qsize 14, out_qsize 1\n",
      "2020-12-07 23:11:55,238 : INFO : EPOCH 27 - PROGRESS: at 61.80% examples, 933688 words/s, in_qsize 15, out_qsize 0\n",
      "2020-12-07 23:11:56,241 : INFO : EPOCH 27 - PROGRESS: at 70.16% examples, 942860 words/s, in_qsize 16, out_qsize 1\n",
      "2020-12-07 23:11:57,252 : INFO : EPOCH 27 - PROGRESS: at 80.10% examples, 968409 words/s, in_qsize 14, out_qsize 1\n",
      "2020-12-07 23:11:58,262 : INFO : EPOCH 27 - PROGRESS: at 90.20% examples, 991236 words/s, in_qsize 15, out_qsize 0\n",
      "2020-12-07 23:11:59,264 : INFO : EPOCH 27 - PROGRESS: at 98.44% examples, 992213 words/s, in_qsize 16, out_qsize 0\n",
      "2020-12-07 23:11:59,403 : INFO : worker thread finished; awaiting finish of 7 more threads\n",
      "2020-12-07 23:11:59,423 : INFO : worker thread finished; awaiting finish of 6 more threads\n",
      "2020-12-07 23:11:59,427 : INFO : worker thread finished; awaiting finish of 5 more threads\n",
      "2020-12-07 23:11:59,429 : INFO : worker thread finished; awaiting finish of 4 more threads\n",
      "2020-12-07 23:11:59,431 : INFO : worker thread finished; awaiting finish of 3 more threads\n",
      "2020-12-07 23:11:59,446 : INFO : worker thread finished; awaiting finish of 2 more threads\n",
      "2020-12-07 23:11:59,449 : INFO : worker thread finished; awaiting finish of 1 more threads\n",
      "2020-12-07 23:11:59,452 : INFO : worker thread finished; awaiting finish of 0 more threads\n",
      "2020-12-07 23:11:59,453 : INFO : EPOCH - 27 : training on 16625290 raw words (12208301 effective words) took 12.3s, 992436 effective words/s\n",
      "2020-12-07 23:12:00,467 : INFO : EPOCH 28 - PROGRESS: at 6.93% examples, 840617 words/s, in_qsize 14, out_qsize 1\n",
      "2020-12-07 23:12:01,483 : INFO : EPOCH 28 - PROGRESS: at 14.15% examples, 853645 words/s, in_qsize 15, out_qsize 0\n",
      "2020-12-07 23:12:02,490 : INFO : EPOCH 28 - PROGRESS: at 21.52% examples, 867545 words/s, in_qsize 15, out_qsize 0\n",
      "2020-12-07 23:12:03,504 : INFO : EPOCH 28 - PROGRESS: at 28.79% examples, 869380 words/s, in_qsize 14, out_qsize 1\n",
      "2020-12-07 23:12:04,525 : INFO : EPOCH 28 - PROGRESS: at 35.93% examples, 866816 words/s, in_qsize 14, out_qsize 1\n",
      "2020-12-07 23:12:05,536 : INFO : EPOCH 28 - PROGRESS: at 43.01% examples, 865058 words/s, in_qsize 15, out_qsize 0\n",
      "2020-12-07 23:12:06,538 : INFO : EPOCH 28 - PROGRESS: at 50.40% examples, 870095 words/s, in_qsize 15, out_qsize 0\n",
      "2020-12-07 23:12:07,539 : INFO : EPOCH 28 - PROGRESS: at 57.53% examples, 870410 words/s, in_qsize 14, out_qsize 1\n",
      "2020-12-07 23:12:08,560 : INFO : EPOCH 28 - PROGRESS: at 64.56% examples, 867052 words/s, in_qsize 14, out_qsize 1\n",
      "2020-12-07 23:12:09,575 : INFO : EPOCH 28 - PROGRESS: at 71.42% examples, 862682 words/s, in_qsize 14, out_qsize 1\n"
     ]
    },
    {
     "name": "stderr",
     "output_type": "stream",
     "text": [
      "2020-12-07 23:12:10,578 : INFO : EPOCH 28 - PROGRESS: at 79.31% examples, 871417 words/s, in_qsize 13, out_qsize 2\n",
      "2020-12-07 23:12:11,587 : INFO : EPOCH 28 - PROGRESS: at 86.77% examples, 873890 words/s, in_qsize 12, out_qsize 3\n",
      "2020-12-07 23:12:12,592 : INFO : EPOCH 28 - PROGRESS: at 94.24% examples, 876212 words/s, in_qsize 14, out_qsize 1\n",
      "2020-12-07 23:12:13,322 : INFO : worker thread finished; awaiting finish of 7 more threads\n",
      "2020-12-07 23:12:13,352 : INFO : worker thread finished; awaiting finish of 6 more threads\n",
      "2020-12-07 23:12:13,355 : INFO : worker thread finished; awaiting finish of 5 more threads\n",
      "2020-12-07 23:12:13,357 : INFO : worker thread finished; awaiting finish of 4 more threads\n",
      "2020-12-07 23:12:13,362 : INFO : worker thread finished; awaiting finish of 3 more threads\n",
      "2020-12-07 23:12:13,370 : INFO : worker thread finished; awaiting finish of 2 more threads\n",
      "2020-12-07 23:12:13,376 : INFO : worker thread finished; awaiting finish of 1 more threads\n",
      "2020-12-07 23:12:13,377 : INFO : worker thread finished; awaiting finish of 0 more threads\n",
      "2020-12-07 23:12:13,378 : INFO : EPOCH - 28 : training on 16625290 raw words (12206895 effective words) took 13.9s, 877317 effective words/s\n",
      "2020-12-07 23:12:14,403 : INFO : EPOCH 29 - PROGRESS: at 6.86% examples, 830858 words/s, in_qsize 14, out_qsize 1\n",
      "2020-12-07 23:12:15,423 : INFO : EPOCH 29 - PROGRESS: at 14.26% examples, 858064 words/s, in_qsize 15, out_qsize 0\n",
      "2020-12-07 23:12:16,424 : INFO : EPOCH 29 - PROGRESS: at 22.19% examples, 894065 words/s, in_qsize 15, out_qsize 0\n",
      "2020-12-07 23:12:17,432 : INFO : EPOCH 29 - PROGRESS: at 29.39% examples, 889018 words/s, in_qsize 15, out_qsize 0\n",
      "2020-12-07 23:12:18,448 : INFO : EPOCH 29 - PROGRESS: at 37.79% examples, 913489 words/s, in_qsize 15, out_qsize 1\n",
      "2020-12-07 23:12:19,455 : INFO : EPOCH 29 - PROGRESS: at 46.79% examples, 943471 words/s, in_qsize 13, out_qsize 2\n",
      "2020-12-07 23:12:20,465 : INFO : EPOCH 29 - PROGRESS: at 56.63% examples, 978876 words/s, in_qsize 13, out_qsize 2\n",
      "2020-12-07 23:12:21,498 : INFO : EPOCH 29 - PROGRESS: at 66.25% examples, 998965 words/s, in_qsize 13, out_qsize 2\n",
      "2020-12-07 23:12:22,512 : INFO : EPOCH 29 - PROGRESS: at 73.58% examples, 986018 words/s, in_qsize 15, out_qsize 0\n",
      "2020-12-07 23:12:23,520 : INFO : EPOCH 29 - PROGRESS: at 80.89% examples, 975557 words/s, in_qsize 15, out_qsize 0\n",
      "2020-12-07 23:12:24,534 : INFO : EPOCH 29 - PROGRESS: at 88.04% examples, 965123 words/s, in_qsize 14, out_qsize 1\n",
      "2020-12-07 23:12:25,552 : INFO : EPOCH 29 - PROGRESS: at 95.21% examples, 956096 words/s, in_qsize 16, out_qsize 1\n",
      "2020-12-07 23:12:26,146 : INFO : worker thread finished; awaiting finish of 7 more threads\n",
      "2020-12-07 23:12:26,157 : INFO : worker thread finished; awaiting finish of 6 more threads\n",
      "2020-12-07 23:12:26,159 : INFO : worker thread finished; awaiting finish of 5 more threads\n",
      "2020-12-07 23:12:26,160 : INFO : worker thread finished; awaiting finish of 4 more threads\n",
      "2020-12-07 23:12:26,179 : INFO : worker thread finished; awaiting finish of 3 more threads\n",
      "2020-12-07 23:12:26,180 : INFO : worker thread finished; awaiting finish of 2 more threads\n",
      "2020-12-07 23:12:26,181 : INFO : worker thread finished; awaiting finish of 1 more threads\n",
      "2020-12-07 23:12:26,182 : INFO : worker thread finished; awaiting finish of 0 more threads\n",
      "2020-12-07 23:12:26,183 : INFO : EPOCH - 29 : training on 16625290 raw words (12208705 effective words) took 12.8s, 954764 effective words/s\n",
      "2020-12-07 23:12:27,205 : INFO : EPOCH 30 - PROGRESS: at 7.05% examples, 847649 words/s, in_qsize 15, out_qsize 0\n",
      "2020-12-07 23:12:28,228 : INFO : EPOCH 30 - PROGRESS: at 14.50% examples, 868453 words/s, in_qsize 15, out_qsize 0\n",
      "2020-12-07 23:12:29,241 : INFO : EPOCH 30 - PROGRESS: at 21.70% examples, 868502 words/s, in_qsize 16, out_qsize 1\n",
      "2020-12-07 23:12:30,256 : INFO : EPOCH 30 - PROGRESS: at 29.03% examples, 871877 words/s, in_qsize 16, out_qsize 0\n",
      "2020-12-07 23:12:31,266 : INFO : EPOCH 30 - PROGRESS: at 36.41% examples, 876289 words/s, in_qsize 15, out_qsize 0\n",
      "2020-12-07 23:12:32,282 : INFO : EPOCH 30 - PROGRESS: at 43.85% examples, 879707 words/s, in_qsize 15, out_qsize 0\n",
      "2020-12-07 23:12:33,290 : INFO : EPOCH 30 - PROGRESS: at 50.99% examples, 877659 words/s, in_qsize 13, out_qsize 2\n",
      "2020-12-07 23:12:34,333 : INFO : EPOCH 30 - PROGRESS: at 58.43% examples, 877044 words/s, in_qsize 15, out_qsize 0\n",
      "2020-12-07 23:12:35,333 : INFO : EPOCH 30 - PROGRESS: at 65.71% examples, 878192 words/s, in_qsize 15, out_qsize 0\n",
      "2020-12-07 23:12:36,356 : INFO : EPOCH 30 - PROGRESS: at 73.40% examples, 882215 words/s, in_qsize 15, out_qsize 0\n",
      "2020-12-07 23:12:37,371 : INFO : EPOCH 30 - PROGRESS: at 83.47% examples, 911787 words/s, in_qsize 14, out_qsize 1\n",
      "2020-12-07 23:12:38,378 : INFO : EPOCH 30 - PROGRESS: at 93.58% examples, 937467 words/s, in_qsize 13, out_qsize 2\n",
      "2020-12-07 23:12:38,988 : INFO : worker thread finished; awaiting finish of 7 more threads\n",
      "2020-12-07 23:12:38,991 : INFO : worker thread finished; awaiting finish of 6 more threads\n",
      "2020-12-07 23:12:39,002 : INFO : worker thread finished; awaiting finish of 5 more threads\n",
      "2020-12-07 23:12:39,015 : INFO : worker thread finished; awaiting finish of 4 more threads\n",
      "2020-12-07 23:12:39,018 : INFO : worker thread finished; awaiting finish of 3 more threads\n",
      "2020-12-07 23:12:39,019 : INFO : worker thread finished; awaiting finish of 2 more threads\n",
      "2020-12-07 23:12:39,021 : INFO : worker thread finished; awaiting finish of 1 more threads\n",
      "2020-12-07 23:12:39,026 : INFO : worker thread finished; awaiting finish of 0 more threads\n",
      "2020-12-07 23:12:39,026 : INFO : EPOCH - 30 : training on 16625290 raw words (12209368 effective words) took 12.8s, 951292 effective words/s\n",
      "2020-12-07 23:12:40,051 : INFO : EPOCH 31 - PROGRESS: at 9.75% examples, 1168804 words/s, in_qsize 16, out_qsize 1\n",
      "2020-12-07 23:12:41,056 : INFO : EPOCH 31 - PROGRESS: at 19.84% examples, 1197054 words/s, in_qsize 15, out_qsize 2\n",
      "2020-12-07 23:12:42,074 : INFO : EPOCH 31 - PROGRESS: at 29.93% examples, 1201976 words/s, in_qsize 15, out_qsize 0\n",
      "2020-12-07 23:12:43,079 : INFO : EPOCH 31 - PROGRESS: at 39.95% examples, 1206488 words/s, in_qsize 15, out_qsize 0\n",
      "2020-12-07 23:12:44,086 : INFO : EPOCH 31 - PROGRESS: at 49.67% examples, 1201396 words/s, in_qsize 15, out_qsize 0\n",
      "2020-12-07 23:12:45,095 : INFO : EPOCH 31 - PROGRESS: at 59.75% examples, 1204854 words/s, in_qsize 15, out_qsize 0\n",
      "2020-12-07 23:12:46,098 : INFO : EPOCH 31 - PROGRESS: at 69.86% examples, 1208168 words/s, in_qsize 14, out_qsize 1\n",
      "2020-12-07 23:12:47,100 : INFO : EPOCH 31 - PROGRESS: at 79.73% examples, 1207453 words/s, in_qsize 14, out_qsize 1\n",
      "2020-12-07 23:12:48,109 : INFO : EPOCH 31 - PROGRESS: at 89.72% examples, 1207319 words/s, in_qsize 14, out_qsize 1\n",
      "2020-12-07 23:12:49,086 : INFO : worker thread finished; awaiting finish of 7 more threads\n",
      "2020-12-07 23:12:49,099 : INFO : worker thread finished; awaiting finish of 6 more threads\n",
      "2020-12-07 23:12:49,102 : INFO : worker thread finished; awaiting finish of 5 more threads\n",
      "2020-12-07 23:12:49,103 : INFO : worker thread finished; awaiting finish of 4 more threads\n",
      "2020-12-07 23:12:49,106 : INFO : worker thread finished; awaiting finish of 3 more threads\n",
      "2020-12-07 23:12:49,112 : INFO : EPOCH 31 - PROGRESS: at 99.88% examples, 1210284 words/s, in_qsize 2, out_qsize 1\n",
      "2020-12-07 23:12:49,112 : INFO : worker thread finished; awaiting finish of 2 more threads\n",
      "2020-12-07 23:12:49,121 : INFO : worker thread finished; awaiting finish of 1 more threads\n",
      "2020-12-07 23:12:49,122 : INFO : worker thread finished; awaiting finish of 0 more threads\n",
      "2020-12-07 23:12:49,123 : INFO : EPOCH - 31 : training on 16625290 raw words (12210309 effective words) took 10.1s, 1210340 effective words/s\n",
      "2020-12-07 23:12:50,145 : INFO : EPOCH 32 - PROGRESS: at 9.81% examples, 1184360 words/s, in_qsize 15, out_qsize 0\n",
      "2020-12-07 23:12:51,157 : INFO : EPOCH 32 - PROGRESS: at 19.72% examples, 1190037 words/s, in_qsize 13, out_qsize 2\n",
      "2020-12-07 23:12:52,174 : INFO : EPOCH 32 - PROGRESS: at 29.63% examples, 1190088 words/s, in_qsize 15, out_qsize 0\n",
      "2020-12-07 23:12:53,174 : INFO : EPOCH 32 - PROGRESS: at 39.65% examples, 1198994 words/s, in_qsize 15, out_qsize 0\n"
     ]
    },
    {
     "name": "stderr",
     "output_type": "stream",
     "text": [
      "2020-12-07 23:12:54,194 : INFO : EPOCH 32 - PROGRESS: at 49.74% examples, 1200979 words/s, in_qsize 13, out_qsize 2\n",
      "2020-12-07 23:12:55,194 : INFO : EPOCH 32 - PROGRESS: at 59.81% examples, 1206165 words/s, in_qsize 14, out_qsize 1\n",
      "2020-12-07 23:12:56,212 : INFO : EPOCH 32 - PROGRESS: at 69.68% examples, 1202735 words/s, in_qsize 14, out_qsize 1\n",
      "2020-12-07 23:12:57,214 : INFO : EPOCH 32 - PROGRESS: at 79.61% examples, 1203359 words/s, in_qsize 14, out_qsize 1\n",
      "2020-12-07 23:12:58,221 : INFO : EPOCH 32 - PROGRESS: at 89.72% examples, 1205664 words/s, in_qsize 15, out_qsize 0\n",
      "2020-12-07 23:12:59,189 : INFO : worker thread finished; awaiting finish of 7 more threads\n",
      "2020-12-07 23:12:59,209 : INFO : worker thread finished; awaiting finish of 6 more threads\n",
      "2020-12-07 23:12:59,211 : INFO : worker thread finished; awaiting finish of 5 more threads\n",
      "2020-12-07 23:12:59,212 : INFO : worker thread finished; awaiting finish of 4 more threads\n",
      "2020-12-07 23:12:59,213 : INFO : worker thread finished; awaiting finish of 3 more threads\n",
      "2020-12-07 23:12:59,230 : INFO : EPOCH 32 - PROGRESS: at 99.88% examples, 1207858 words/s, in_qsize 1, out_qsize 3\n",
      "2020-12-07 23:12:59,231 : INFO : worker thread finished; awaiting finish of 2 more threads\n",
      "2020-12-07 23:12:59,232 : INFO : worker thread finished; awaiting finish of 1 more threads\n",
      "2020-12-07 23:12:59,232 : INFO : worker thread finished; awaiting finish of 0 more threads\n",
      "2020-12-07 23:12:59,233 : INFO : EPOCH - 32 : training on 16625290 raw words (12207445 effective words) took 10.1s, 1208953 effective words/s\n",
      "2020-12-07 23:12:59,233 : INFO : training on a 532009280 raw words (390661125 effective words) took 358.5s, 1089610 effective words/s\n"
     ]
    },
    {
     "name": "stdout",
     "output_type": "stream",
     "text": [
      "CPU times: user 24min 56s, sys: 10.3 s, total: 25min 7s\n",
      "Wall time: 5min 58s\n"
     ]
    },
    {
     "data": {
      "text/plain": [
       "(390661125, 532009280)"
      ]
     },
     "execution_count": 34,
     "metadata": {},
     "output_type": "execute_result"
    }
   ],
   "source": [
    "# Train w2v_model\n",
    "w2v_model.train(documents, total_examples=len(documents), epochs=32)"
   ]
  },
  {
   "cell_type": "markdown",
   "metadata": {
    "_uuid": "e13563644468037258598637b49373ca96b9b879"
   },
   "source": [
    "### Get data ready for training"
   ]
  },
  {
   "cell_type": "code",
   "execution_count": 40,
   "metadata": {
    "_uuid": "45de439df3015030c71f84c2d170346936a1d68f"
   },
   "outputs": [],
   "source": [
    "tokenizer = Tokenizer()\n",
    "tokenizer.fit_on_texts(df_train.text)\n",
    "vocab_size = len(tokenizer.word_index) + 1\n",
    "print(\"Total words\", vocab_size)\n",
    "x_train = pad_sequences(tokenizer.texts_to_sequences(df_train.text), maxlen=300)\n",
    "x_test = pad_sequences(tokenizer.texts_to_sequences(df_test.text), maxlen=300)"
   ]
  },
  {
   "cell_type": "markdown",
   "metadata": {
    "_uuid": "03b35903fc6260e190d6928d240ef7432de117fc"
   },
   "source": [
    "### Label Encoder "
   ]
  },
  {
   "cell_type": "code",
   "execution_count": 45,
   "metadata": {
    "_uuid": "33676e0efa39e97d89bd650b8b4eae933a22fbf0"
   },
   "outputs": [
    {
     "data": {
      "text/plain": [
       "['POSITIVE', 'NEGATIVE']"
      ]
     },
     "execution_count": 45,
     "metadata": {},
     "output_type": "execute_result"
    }
   ],
   "source": [
    "labels = df_train.target.unique().tolist()\n",
    "#labels.append(NEUTRAL)\n",
    "labels"
   ]
  },
  {
   "cell_type": "code",
   "execution_count": 46,
   "metadata": {
    "_uuid": "04239a9bef76e7922fd86098a5601dfde8ee4665"
   },
   "outputs": [
    {
     "name": "stdout",
     "output_type": "stream",
     "text": [
      "y_train (1280000, 1)\n",
      "y_test (320000, 1)\n"
     ]
    }
   ],
   "source": [
    "encoder = LabelEncoder()\n",
    "encoder.fit(df_train.target.tolist())\n",
    "\n",
    "y_train = encoder.transform(df_train.target.tolist())\n",
    "y_test = encoder.transform(df_test.target.tolist())\n",
    "\n",
    "y_train = y_train.reshape(-1,1)\n",
    "y_test = y_test.reshape(-1,1)\n"
   ]
  },
  {
   "cell_type": "markdown",
   "metadata": {
    "_uuid": "233c0ea94055a03e2e7df3e2a13d036ec963484f"
   },
   "source": [
    "# 3.1.2 Build The Embedding layer Matrix"
   ]
  },
  {
   "cell_type": "code",
   "execution_count": 49,
   "metadata": {
    "_uuid": "9ab488374b59e3f30f8b1ea92767d853c4846bac"
   },
   "outputs": [
    {
     "name": "stdout",
     "output_type": "stream",
     "text": [
      "(654743, 300)\n"
     ]
    }
   ],
   "source": [
    "embedding_matrix = np.zeros((vocab_size, 300))\n",
    "for word, i in tokenizer.word_index.items():\n",
    "  if word in w2v_model.wv:\n",
    "    embedding_matrix[i] = w2v_model.wv[word]\n",
    "print(embedding_matrix.shape)"
   ]
  },
  {
   "cell_type": "code",
   "execution_count": 50,
   "metadata": {
    "_uuid": "833279d91e4286065968237fb5f2a0c2dd4d246c"
   },
   "outputs": [],
   "source": [
    "embedding_layer = Embedding(vocab_size, 300, weights=[embedding_matrix], input_length=300, trainable=False)"
   ]
  },
  {
   "cell_type": "markdown",
   "metadata": {
    "_uuid": "b299ef78f94c2085942c993a2d58753a7476305a"
   },
   "source": [
    "# 3.1.3 Compose the Sequential LSTM Model with W2V"
   ]
  },
  {
   "cell_type": "code",
   "execution_count": 51,
   "metadata": {
    "_uuid": "e775ef4f1b74e6412457181383c39f2df554ef3f"
   },
   "outputs": [
    {
     "name": "stdout",
     "output_type": "stream",
     "text": [
      "Model: \"sequential\"\n",
      "_________________________________________________________________\n",
      "Layer (type)                 Output Shape              Param #   \n",
      "=================================================================\n",
      "embedding (Embedding)        (None, 300, 300)          196422900 \n",
      "_________________________________________________________________\n",
      "dropout (Dropout)            (None, 300, 300)          0         \n",
      "_________________________________________________________________\n",
      "lstm (LSTM)                  (None, 100)               160400    \n",
      "_________________________________________________________________\n",
      "dense (Dense)                (None, 1)                 101       \n",
      "=================================================================\n",
      "Total params: 196,583,401\n",
      "Trainable params: 160,501\n",
      "Non-trainable params: 196,422,900\n",
      "_________________________________________________________________\n"
     ]
    }
   ],
   "source": [
    "model = Sequential()\n",
    "model.add(embedding_layer)\n",
    "model.add(Dropout(0.5))\n",
    "model.add(LSTM(100, dropout=0.2, recurrent_dropout=0.2))\n",
    "model.add(Dense(1, activation='sigmoid'))\n",
    "\n",
    "model.summary()"
   ]
  },
  {
   "cell_type": "markdown",
   "metadata": {
    "_uuid": "28d22eafd0c7d798dcf3d742bc92fb8577939e6c"
   },
   "source": [
    "# 3.1.4 Compile + Train  the model"
   ]
  },
  {
   "cell_type": "markdown",
   "metadata": {},
   "source": [
    "## Compile"
   ]
  },
  {
   "cell_type": "code",
   "execution_count": 52,
   "metadata": {
    "_uuid": "1331e08d590bb2aa2033706c8faca217afc0f1c3"
   },
   "outputs": [],
   "source": [
    "model.compile(loss='binary_crossentropy',\n",
    "              optimizer=\"adam\",\n",
    "              metrics=['accuracy'])"
   ]
  },
  {
   "cell_type": "markdown",
   "metadata": {
    "_uuid": "8d0873633dd49179c8cae17377641b97d323ef3b"
   },
   "source": [
    "## Train"
   ]
  },
  {
   "cell_type": "code",
   "execution_count": 54,
   "metadata": {
    "_uuid": "2b659d390c6577dc5cdb6b6297934279b4e801d5"
   },
   "outputs": [
    {
     "name": "stdout",
     "output_type": "stream",
     "text": [
      "Epoch 1/8\n",
      "1125/1125 [==============================] - ETA: 0s - loss: 0.4938 - accuracy: 0.7609WARNING:tensorflow:Early stopping conditioned on metric `val_acc` which is not available. Available metrics are: loss,accuracy,val_loss,val_accuracy,lr\n"
     ]
    },
    {
     "name": "stderr",
     "output_type": "stream",
     "text": [
      "2020-12-08 01:28:57,473 : WARNING : Early stopping conditioned on metric `val_acc` which is not available. Available metrics are: loss,accuracy,val_loss,val_accuracy,lr\n"
     ]
    },
    {
     "name": "stdout",
     "output_type": "stream",
     "text": [
      "1125/1125 [==============================] - 4756s 4s/step - loss: 0.4938 - accuracy: 0.7609 - val_loss: 0.4374 - val_accuracy: 0.8013\n",
      "Epoch 2/8\n",
      "1125/1125 [==============================] - ETA: 0s - loss: 0.4582 - accuracy: 0.7846WARNING:tensorflow:Early stopping conditioned on metric `val_acc` which is not available. Available metrics are: loss,accuracy,val_loss,val_accuracy,lr\n"
     ]
    },
    {
     "name": "stderr",
     "output_type": "stream",
     "text": [
      "2020-12-08 02:55:56,794 : WARNING : Early stopping conditioned on metric `val_acc` which is not available. Available metrics are: loss,accuracy,val_loss,val_accuracy,lr\n"
     ]
    },
    {
     "name": "stdout",
     "output_type": "stream",
     "text": [
      "1125/1125 [==============================] - 5214s 5s/step - loss: 0.4582 - accuracy: 0.7846 - val_loss: 0.4234 - val_accuracy: 0.8081\n",
      "Epoch 3/8\n",
      "1125/1125 [==============================] - ETA: 0s - loss: 0.4483 - accuracy: 0.7899 WARNING:tensorflow:Early stopping conditioned on metric `val_acc` which is not available. Available metrics are: loss,accuracy,val_loss,val_accuracy,lr\n"
     ]
    },
    {
     "name": "stderr",
     "output_type": "stream",
     "text": [
      "2020-12-08 07:59:35,856 : WARNING : Early stopping conditioned on metric `val_acc` which is not available. Available metrics are: loss,accuracy,val_loss,val_accuracy,lr\n"
     ]
    },
    {
     "name": "stdout",
     "output_type": "stream",
     "text": [
      "1125/1125 [==============================] - 18213s 16s/step - loss: 0.4483 - accuracy: 0.7899 - val_loss: 0.4183 - val_accuracy: 0.8110\n",
      "Epoch 4/8\n",
      "1125/1125 [==============================] - ETA: 0s - loss: 0.4426 - accuracy: 0.7934WARNING:tensorflow:Early stopping conditioned on metric `val_acc` which is not available. Available metrics are: loss,accuracy,val_loss,val_accuracy,lr\n"
     ]
    },
    {
     "name": "stderr",
     "output_type": "stream",
     "text": [
      "2020-12-08 09:17:08,453 : WARNING : Early stopping conditioned on metric `val_acc` which is not available. Available metrics are: loss,accuracy,val_loss,val_accuracy,lr\n"
     ]
    },
    {
     "name": "stdout",
     "output_type": "stream",
     "text": [
      "1125/1125 [==============================] - 4649s 4s/step - loss: 0.4426 - accuracy: 0.7934 - val_loss: 0.4152 - val_accuracy: 0.8134\n",
      "Epoch 5/8\n",
      "1125/1125 [==============================] - ETA: 0s - loss: 0.4377 - accuracy: 0.7960WARNING:tensorflow:Early stopping conditioned on metric `val_acc` which is not available. Available metrics are: loss,accuracy,val_loss,val_accuracy,lr\n"
     ]
    },
    {
     "name": "stderr",
     "output_type": "stream",
     "text": [
      "2020-12-08 11:15:23,984 : WARNING : Early stopping conditioned on metric `val_acc` which is not available. Available metrics are: loss,accuracy,val_loss,val_accuracy,lr\n"
     ]
    },
    {
     "name": "stdout",
     "output_type": "stream",
     "text": [
      "1125/1125 [==============================] - 7091s 6s/step - loss: 0.4377 - accuracy: 0.7960 - val_loss: 0.4092 - val_accuracy: 0.8154\n",
      "Epoch 6/8\n",
      "1125/1125 [==============================] - ETA: 0s - loss: 0.4345 - accuracy: 0.7980WARNING:tensorflow:Early stopping conditioned on metric `val_acc` which is not available. Available metrics are: loss,accuracy,val_loss,val_accuracy,lr\n"
     ]
    },
    {
     "name": "stderr",
     "output_type": "stream",
     "text": [
      "2020-12-08 12:42:19,434 : WARNING : Early stopping conditioned on metric `val_acc` which is not available. Available metrics are: loss,accuracy,val_loss,val_accuracy,lr\n"
     ]
    },
    {
     "name": "stdout",
     "output_type": "stream",
     "text": [
      "1125/1125 [==============================] - 5208s 5s/step - loss: 0.4345 - accuracy: 0.7980 - val_loss: 0.4080 - val_accuracy: 0.8161\n",
      "Epoch 7/8\n",
      "1125/1125 [==============================] - ETA: 0s - loss: 0.4312 - accuracy: 0.7997WARNING:tensorflow:Early stopping conditioned on metric `val_acc` which is not available. Available metrics are: loss,accuracy,val_loss,val_accuracy,lr\n"
     ]
    },
    {
     "name": "stderr",
     "output_type": "stream",
     "text": [
      "2020-12-08 14:00:49,319 : WARNING : Early stopping conditioned on metric `val_acc` which is not available. Available metrics are: loss,accuracy,val_loss,val_accuracy,lr\n"
     ]
    },
    {
     "name": "stdout",
     "output_type": "stream",
     "text": [
      "1125/1125 [==============================] - 4706s 4s/step - loss: 0.4312 - accuracy: 0.7997 - val_loss: 0.4046 - val_accuracy: 0.8171\n",
      "Epoch 8/8\n",
      "1125/1125 [==============================] - ETA: 0s - loss: 0.4282 - accuracy: 0.8010WARNING:tensorflow:Early stopping conditioned on metric `val_acc` which is not available. Available metrics are: loss,accuracy,val_loss,val_accuracy,lr\n"
     ]
    },
    {
     "name": "stderr",
     "output_type": "stream",
     "text": [
      "2020-12-08 15:19:28,024 : WARNING : Early stopping conditioned on metric `val_acc` which is not available. Available metrics are: loss,accuracy,val_loss,val_accuracy,lr\n"
     ]
    },
    {
     "name": "stdout",
     "output_type": "stream",
     "text": [
      "1125/1125 [==============================] - 4714s 4s/step - loss: 0.4282 - accuracy: 0.8010 - val_loss: 0.4029 - val_accuracy: 0.8181\n",
      "CPU times: user 2d 2h 58min 26s, sys: 21h 5min 58s, total: 3d 4min 25s\n",
      "Wall time: 15h 9min 55s\n"
     ]
    }
   ],
   "source": [
    "# Callbacks\n",
    "callbacks = [ ReduceLROnPlateau(monitor='val_loss', patience=5, cooldown=0),\n",
    "              EarlyStopping(monitor='val_acc', min_delta=1e-4, patience=5)]\n",
    "\n",
    "%%time\n",
    "history = model.fit(x_train, y_train,\n",
    "                    batch_size=BATCH_SIZE,\n",
    "                    epochs=8,\n",
    "                    validation_split=0.1,\n",
    "                    verbose=1,\n",
    "                    callbacks=callbacks)"
   ]
  },
  {
   "cell_type": "markdown",
   "metadata": {
    "_uuid": "267258196d96796ac69a7b8c466314bcf5d6ee42"
   },
   "source": [
    "# 3.1.5 Evaluate the model with Word2Vec"
   ]
  },
  {
   "cell_type": "markdown",
   "metadata": {},
   "source": [
    "## Accuracy and Loss"
   ]
  },
  {
   "cell_type": "code",
   "execution_count": 55,
   "metadata": {
    "_uuid": "98ecd8f1b8b74594c3ea775dd68a094e92458022"
   },
   "outputs": [
    {
     "name": "stdout",
     "output_type": "stream",
     "text": [
      "313/313 [==============================] - 301s 962ms/step - loss: 0.4029 - accuracy: 0.8174\n",
      "ACCURACY: 0.817368745803833\n",
      "LOSS: 0.4029090106487274\n"
     ]
    }
   ],
   "source": [
    "score = model.evaluate(x_test, y_test, batch_size=1024)\n",
    "print(\"ACCURACY:\",score[1])\n",
    "print(\"LOSS:\",score[0])"
   ]
  },
  {
   "cell_type": "code",
   "execution_count": 83,
   "metadata": {
    "_uuid": "40c72cd1e9d6c4fd799cbba7c813765ac4039dfc"
   },
   "outputs": [
    {
     "data": {
      "image/png": "[encoded data removed]",
      "text/plain": [
       "<Figure size 432x288 with 1 Axes>"
      ]
     },
     "metadata": {
      "needs_background": "light"
     },
     "output_type": "display_data"
    },
    {
     "data": {
      "image/png": "[encoded data removed]",
      "text/plain": [
       "<Figure size 432x288 with 1 Axes>"
      ]
     },
     "metadata": {
      "needs_background": "light"
     },
     "output_type": "display_data"
    }
   ],
   "source": [
    "acc = history.history['accuracy']\n",
    "val_acc = history.history['val_accuracy']\n",
    "loss = history.history['loss']\n",
    "val_loss = history.history['val_loss']\n",
    " \n",
    "epochs = range(1, len(acc) + 1)\n",
    " \n",
    "plt.plot(epochs, acc, 'b', label='Training acc')\n",
    "plt.plot(epochs, val_acc, 'r', label='Validation acc')\n",
    "plt.title('Training and validation accuracy- Word2Vec')\n",
    "plt.xlabel(\"epochs\")\n",
    "plt.ylabel(\"accuracy\")\n",
    "plt.legend()\n",
    " \n",
    "plt.figure()\n",
    " \n",
    "plt.plot(epochs, loss, 'b', label='Training loss')\n",
    "plt.plot(epochs, val_loss, 'r', label='Validation loss')\n",
    "plt.title('Training and validation loss- Word2Vec')\n",
    "plt.xlabel(\"epochs\")\n",
    "plt.ylabel(\"loss\")\n",
    "plt.legend()\n",
    " \n",
    "plt.show()"
   ]
  },
  {
   "cell_type": "markdown",
   "metadata": {},
   "source": [
    "### looks like this model is doing well , no overfitting, although the accuracy is not very high\n",
    "### and the running speed is really slow."
   ]
  },
  {
   "cell_type": "markdown",
   "metadata": {
    "_uuid": "6bdfc0f6a6af5bebc0271d83dd7432c91001409b"
   },
   "source": [
    "# 3.1.6 Application -  Prediction "
   ]
  },
  {
   "cell_type": "code",
   "execution_count": 70,
   "metadata": {
    "_uuid": "f0b0fa3d4b1bb14b3f5e3d169a369f3ebef29ae1"
   },
   "outputs": [],
   "source": [
    "# decoder \n",
    "def decode_sentiment(score):\n",
    "            \n",
    "    label = NEUTRAL\n",
    "    if score <= SENTIMENT_THRESHOLDS[0]:\n",
    "        label = NEGATIVE\n",
    "    elif score >= SENTIMENT_THRESHOLDS[1]:\n",
    "        label = POSITIVE\n",
    "\n",
    "    return label\n"
   ]
  },
  {
   "cell_type": "code",
   "execution_count": 71,
   "metadata": {
    "_uuid": "ed4086d651f2f8cbed11d3c909a8873607d29a06"
   },
   "outputs": [],
   "source": [
    "# predictor \n",
    "def predict(text):\n",
    "    start_at = time.time()\n",
    "    x_test = pad_sequences(tokenizer.texts_to_sequences([text]), maxlen=SEQUENCE_LENGTH)\n",
    "    score = model.predict([x_test])[0]\n",
    "    label = decode_sentiment(score)\n",
    "    return {\"label\": label, \"score\": float(score),\n",
    "       \"elapsed_time\": time.time()-start_at}  "
   ]
  },
  {
   "cell_type": "markdown",
   "metadata": {},
   "source": [
    "## Try some texts "
   ]
  },
  {
   "cell_type": "code",
   "execution_count": 72,
   "metadata": {
    "_uuid": "ca38b1e6c9b5acfed7467de2cf02a78333108872"
   },
   "outputs": [
    {
     "data": {
      "text/plain": [
       "{'label': 'POSITIVE',\n",
       " 'score': 0.9262499809265137,\n",
       " 'elapsed_time': 0.2972400188446045}"
      ]
     },
     "execution_count": 72,
     "metadata": {},
     "output_type": "execute_result"
    }
   ],
   "source": [
    "predict(\"NLP is so interesting that I am getting obsessed\")"
   ]
  },
  {
   "cell_type": "code",
   "execution_count": 73,
   "metadata": {
    "_uuid": "0e5fe647533be0148850de349fea6ef6f71303d1"
   },
   "outputs": [
    {
     "data": {
      "text/plain": [
       "{'label': 'NEGATIVE',\n",
       " 'score': 0.013658285140991211,\n",
       " 'elapsed_time': 0.07059192657470703}"
      ]
     },
     "execution_count": 73,
     "metadata": {},
     "output_type": "execute_result"
    }
   ],
   "source": [
    "predict(\"I hate the winter\")"
   ]
  },
  {
   "cell_type": "code",
   "execution_count": 76,
   "metadata": {
    "_uuid": "37064dffcc8920d34ccd54fac7c8b50e583a8269"
   },
   "outputs": [
    {
     "data": {
      "text/plain": [
       "{'label': 'POSITIVE',\n",
       " 'score': 0.9021734595298767,\n",
       " 'elapsed_time': 0.07148313522338867}"
      ]
     },
     "execution_count": 76,
     "metadata": {},
     "output_type": "execute_result"
    }
   ],
   "source": [
    "predict(\"I don't like you\")\n",
    "# wrong here !"
   ]
  },
  {
   "cell_type": "markdown",
   "metadata": {},
   "source": [
    "# 3.2 Experiment with Glove"
   ]
  },
  {
   "cell_type": "markdown",
   "metadata": {},
   "source": [
    "##  included in next.ipynb"
   ]
  },
  {
   "cell_type": "markdown",
   "metadata": {},
   "source": [
    "# 4 Analysis"
   ]
  },
  {
   "cell_type": "markdown",
   "metadata": {
    "_uuid": "3ee72e47f84b6dbc32e02a783de5ec1661f157e1"
   },
   "source": [
    "### 4.1Confusion Matrix"
   ]
  },
  {
   "cell_type": "code",
   "execution_count": 78,
   "metadata": {
    "_uuid": "0e920173eb05f04aecdd735bc5dff0f5be5f8d15"
   },
   "outputs": [
    {
     "name": "stdout",
     "output_type": "stream",
     "text": [
      "40/40 [==============================] - 262s 7s/step\n",
      "CPU times: user 21min 44s, sys: 6min 26s, total: 28min 10s\n",
      "Wall time: 4min 30s\n"
     ]
    }
   ],
   "source": [
    "%%time\n",
    "y_pred_1d = []\n",
    "y_test_1d = list(df_test.target)\n",
    "scores = model.predict(x_test, verbose=1, batch_size=8000)\n",
    "y_pred_1d = [decode_sentiment(score) for score in scores]"
   ]
  },
  {
   "cell_type": "code",
   "execution_count": 79,
   "metadata": {
    "_uuid": "b3575191bb425ab871f3f41e83812ee84bb7e595"
   },
   "outputs": [],
   "source": [
    "def plot_confusion_matrix(cm, classes,\n",
    "                          title='Confusion matrix',\n",
    "                          cmap=plt.cm.Blues):\n",
    "    \"\"\"\n",
    "    This function prints and plots the confusion matrix.\n",
    "    Normalization can be applied by setting `normalize=True`.\n",
    "    \"\"\"\n",
    "\n",
    "    cm = cm.astype('float') / cm.sum(axis=1)[:, np.newaxis]\n",
    "\n",
    "    plt.imshow(cm, interpolation='nearest', cmap=cmap)\n",
    "    plt.title(title, fontsize=30)\n",
    "    plt.colorbar()\n",
    "    tick_marks = np.arange(len(classes))\n",
    "    plt.xticks(tick_marks, classes, rotation=90, fontsize=22)\n",
    "    plt.yticks(tick_marks, classes, fontsize=22)\n",
    "\n",
    "    fmt = '.2f'\n",
    "    thresh = cm.max() / 2.\n",
    "    for i, j in itertools.product(range(cm.shape[0]), range(cm.shape[1])):\n",
    "        plt.text(j, i, format(cm[i, j], fmt),\n",
    "                 horizontalalignment=\"center\",\n",
    "                 color=\"white\" if cm[i, j] > thresh else \"black\")\n",
    "\n",
    "    plt.ylabel('True label', fontsize=25)\n",
    "    plt.xlabel('Predicted label', fontsize=25)"
   ]
  },
  {
   "cell_type": "code",
   "execution_count": 45,
   "metadata": {
    "_uuid": "a57dc6f6211c144491a70f533225edfa95a2dc66"
   },
   "outputs": [
    {
     "data": {
      "image/png": "[encoded data removed]",
      "text/plain": [
       "<Figure size 864x864 with 2 Axes>"
      ]
     },
     "metadata": {
      "needs_background": "light"
     },
     "output_type": "display_data"
    },
    {
     "name": "stdout",
     "output_type": "stream",
     "text": [
      "CPU times: user 937 ms, sys: 85.6 ms, total: 1.02 s\n",
      "Wall time: 1.09 s\n"
     ]
    }
   ],
   "source": [
    "%%time\n",
    "\n",
    "cnf_matrix = confusion_matrix(y_test_1d, y_pred_1d)\n",
    "plt.figure(figsize=(12,12))\n",
    "plot_confusion_matrix(cnf_matrix, classes=df_train.target.unique(), title=\"Confusion matrix\")\n",
    "plt.show()"
   ]
  },
  {
   "cell_type": "markdown",
   "metadata": {
    "_uuid": "e23b957348dcc084249d3cc7538b972da471c2cd"
   },
   "source": [
    "## 4.2 Classification Report"
   ]
  },
  {
   "cell_type": "code",
   "execution_count": 80,
   "metadata": {
    "_uuid": "a7fe05b7caa1c984ff1deb0be2f7c6bc043df9f5"
   },
   "outputs": [
    {
     "name": "stderr",
     "output_type": "stream",
     "text": [
      "/Users/mozzietian/miniconda3/lib/python3.8/site-packages/sklearn/metrics/_classification.py:1221: UndefinedMetricWarning: Recall and F-score are ill-defined and being set to 0.0 in labels with no true samples. Use `zero_division` parameter to control this behavior.\n",
      "  _warn_prf(average, modifier, msg_start, len(result))\n"
     ]
    },
    {
     "name": "stdout",
     "output_type": "stream",
     "text": [
      "              precision    recall  f1-score   support\n",
      "\n",
      "    NEGATIVE       0.84      0.77      0.80    159494\n",
      "     NEUTRAL       0.00      0.00      0.00         0\n",
      "    POSITIVE       0.89      0.69      0.77    160506\n",
      "\n",
      "    accuracy                           0.73    320000\n",
      "   macro avg       0.58      0.49      0.53    320000\n",
      "weighted avg       0.86      0.73      0.79    320000\n",
      "\n"
     ]
    }
   ],
   "source": [
    "print(classification_report(y_test_1d, y_pred_1d))"
   ]
  },
  {
   "cell_type": "markdown",
   "metadata": {
    "_uuid": "4f014c32f3833db282e1a075c526604f34e3158c"
   },
   "source": [
    "### Save model"
   ]
  },
  {
   "cell_type": "code",
   "execution_count": 82,
   "metadata": {
    "_uuid": "3b2b3ad5b592977b404acfa1c9ad303a62837255"
   },
   "outputs": [
    {
     "name": "stderr",
     "output_type": "stream",
     "text": [
      "2020-12-08 19:33:50,133 : INFO : saving Word2Vec object under model.w2v, separately None\n",
      "2020-12-08 19:33:50,143 : INFO : storing np array 'vectors' to model.w2v.wv.vectors.npy\n",
      "2020-12-08 19:33:50,490 : INFO : not storing attribute vectors_norm\n",
      "2020-12-08 19:33:50,492 : INFO : storing np array 'syn1neg' to model.w2v.trainables.syn1neg.npy\n",
      "2020-12-08 19:33:50,837 : INFO : not storing attribute cum_table\n",
      "2020-12-08 19:33:51,723 : INFO : saved model.w2v\n"
     ]
    }
   ],
   "source": [
    "model.save(KERAS_MODEL)\n",
    "w2v_model.save(WORD2VEC_MODEL)\n",
    "pickle.dump(tokenizer, open(TOKENIZER_MODEL, \"wb\"), protocol=0)\n",
    "pickle.dump(encoder, open(ENCODER_MODEL, \"wb\"), protocol=0)"
   ]
  },
  {
   "cell_type": "code",
   "execution_count": null,
   "metadata": {
    "_uuid": "cc363c54782894757f5ea8820c6a170f2e16ef93"
   },
   "outputs": [],
   "source": []
  },
  {
   "cell_type": "markdown",
   "metadata": {},
   "source": [
    "## 4.3 Possible Cause"
   ]
  },
  {
   "cell_type": "markdown",
   "metadata": {},
   "source": [
    "## Generate 20 most similar word of \"good\" from w2v_model and plot as wordcloud"
   ]
  },
  {
   "cell_type": "code",
   "execution_count": 37,
   "metadata": {
    "_uuid": "27cc2651c74227115d8bfd8c40e5618048e05edd"
   },
   "outputs": [],
   "source": [
    "\n",
    "cloud_data = w2v_model.wv.most_similar(\"good\",topn=20,)"
   ]
  },
  {
   "cell_type": "code",
   "execution_count": 38,
   "metadata": {},
   "outputs": [
    {
     "data": {
      "image/png": "[encoded data removed]",
      "text/plain": [
       "<Figure size 720x504 with 1 Axes>"
      ]
     },
     "metadata": {
      "needs_background": "light"
     },
     "output_type": "display_data"
    }
   ],
   "source": [
    "word_list=[]\n",
    "for ele in cloud_data:\n",
    "    for i in range(int(ele[1]*128)):\n",
    "        word_list.append(ele[0])\n",
    "        \n",
    "    \n",
    "\n",
    "    \n",
    "#word_list   \n",
    "nltk_count = nltk.FreqDist(word_list)\n",
    "\n",
    "wordcloud = WordCloud().generate_from_frequencies(nltk_count)\n",
    "plt.figure(figsize=(10,7))\n",
    "plt.imshow(wordcloud, interpolation  ='bilinear')\n",
    "plt.axis('off')\n",
    "plt.show()"
   ]
  },
  {
   "cell_type": "markdown",
   "metadata": {},
   "source": [
    "## As we can see, words such as 'rough','terrible','horrible'... are all listed inside most similar words of 'good'.\n",
    "## Which is spotted by us as the main issue cause Word2Vec to fail in its confused matrix."
   ]
  },
  {
   "cell_type": "code",
   "execution_count": null,
   "metadata": {},
   "outputs": [],
   "source": []
  }
 ],
 "metadata": {
  "kernelspec": {
   "display_name": "Python 3",
   "language": "python",
   "name": "python3"
  },
  "language_info": {
   "codemirror_mode": {
    "name": "ipython",
    "version": 3
   },
   "file_extension": ".py",
   "mimetype": "text/x-python",
   "name": "python",
   "nbconvert_exporter": "python",
   "pygments_lexer": "ipython3",
   "version": "3.8.3"
  }
 },
 "nbformat": 4,
 "nbformat_minor": 1
}
